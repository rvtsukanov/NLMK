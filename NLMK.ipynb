{
 "cells": [
  {
   "cell_type": "markdown",
   "metadata": {},
   "source": [
    "# import copy\n",
    "import pandas as pd\n",
    "import pickle\n",
    "import lightgbm as lgb\n",
    "from sklearn.feature_selection import SelectKBest, RFE, SelectFdr, RFECV\n",
    "import numpy as np\n",
    "import matplotlib.pyplot as plt\n",
    "%matplotlib inline\n",
    "import seaborn as sns\n",
    "from sklearn.metrics import mean_squared_error as mse\n",
    "import tqdm\n",
    "from sklearn.metrics import accuracy_score, f1_score, roc_auc_score\n",
    "from sklearn.model_selection import train_test_split\n",
    "from sklearn.linear_model import LinearRegression\n",
    "from sklearn.model_selection import cross_val_score\n",
    "from sklearn.ensemble import RandomForestRegressor\n",
    "from sklearn.mixture import GaussianMixture\n",
    "from sklearn.metrics import r2_score, regression\n",
    "from xgboost import XGBClassifier, XGBRegressor\n",
    "from sklearn.decomposition import PCA\n",
    "from sklearn.ensemble import RandomForestClassifier, RandomForestRegressor\n",
    "from sklearn.linear_model import LogisticRegression\n",
    "from xgboost import plot_importance as xgb_importance\n",
    "from lightgbm import plot_importance as lgb_importance\n",
    "from lightgbm import LGBMClassifier, LGBMRegressor\n",
    "from sklearn.model_selection import KFold\n",
    "import itertools"
   ]
  },
  {
   "cell_type": "code",
   "execution_count": 30,
   "metadata": {},
   "outputs": [],
   "source": [
    "def evaluate(X, y_cont, y_clf, model_reg, model_clf, score):\n",
    "\n",
    "    cv = KFold(4, shuffle=True) # custom cv\n",
    "    \n",
    "    print('Cross-val-score, accuracy: {:.4f}'.format(cross_val_score(model_clf, X, y_clf, scoring='accuracy', cv=cv, n_jobs=8).mean()))\n",
    "    print('Cross-val-score, f1_score: {:.4f}'.format(cross_val_score(model_clf, X, y_clf, scoring='f1', cv=cv, n_jobs=8).mean()))\n",
    "    print('Cross-val-score, precision: {:.4f}'.format(cross_val_score(model_clf, X, y_clf, scoring='precision', cv=cv, n_jobs=8).mean()))\n",
    "    print('Cross-val-score, recall: {:.4f}'.format(cross_val_score(model_clf, X, y_clf, scoring='recall', cv=cv, n_jobs=8).mean()))\n",
    "    print('Cross-val-score, roc-auc: {:.4f}'.format(cross_val_score(model_clf, X, y_clf, scoring='roc_auc', cv=cv, n_jobs=8).mean()))\n",
    "    \n",
    "    print()\n",
    "    \n",
    "    model_clf.fit(X, y_clf)\n",
    "    y_predicted = model_clf.predict(X)\n",
    "    \n",
    "    y1 = y_cont[y_predicted == 0]\n",
    "    y2 = y_cont[y_predicted == 1]\n",
    "    \n",
    "    X1 = X[y_predicted == 0]\n",
    "    X2 = X[y_predicted == 1]\n",
    "    \n",
    "    X1_train, X1_test, y1_train, y1_test = train_test_split(X1, y1, train_size=0.7, random_state=42)\n",
    "    X2_train, X2_test, y2_train, y2_test = train_test_split(X2, y2, train_size=0.7, random_state=42)    \n",
    "    \n",
    "    X_train, y_train = pd.concat((X1_train, X2_train)), pd.concat((y1_train, y2_train))\n",
    "    X_test, y_test = pd.concat((X1_test, X2_test)), pd.concat((y1_test, y2_test))\n",
    "    \n",
    "    model_reg.fit(X_train, y_train)\n",
    "    \n",
    "    for sc in score:\n",
    "        print(sc.__name__ + ' - исходная модель (test / train): {:.6f} / {:.6f}'.format(sc(model_reg.predict(X_test), y_test),\n",
    "                                                                                      sc(model_reg.predict(X_train), y_train)))\n",
    "        \n",
    "        print('-' * 20)\n",
    "    print()\n",
    "\n",
    "    model_reg_inside1 = copy.copy(model_reg)\n",
    "    model_reg_inside2 = copy.copy(model_reg)\n",
    "    \n",
    "    model_reg_inside1.fit(X1_train, y1_train)\n",
    "    model_reg_inside2.fit(X2_train, y2_train)\n",
    "    \n",
    "    yts = np.concatenate((model_reg_inside1.predict(X1_test), model_reg_inside2.predict(X2_test)))\n",
    "    ytr = np.concatenate((model_reg_inside1.predict(X1_train), model_reg_inside2.predict(X2_train)))\n",
    "    \n",
    "    for sc in score:\n",
    "        print(sc.__name__ + ' - обработанная модель (test / train): {:.6f} / {:.6f}'.format(sc(yts, y_test), \n",
    "              sc(ytr, y_train))\n",
    "             )  \n",
    "        print('-' * 20)\n",
    "    return model_clf, model_reg, model_reg_inside1, model_reg_inside2 "
   ]
  },
  {
   "cell_type": "code",
   "execution_count": null,
   "metadata": {},
   "outputs": [],
   "source": [
    "def evaluate_silently(X, y_cont, y_clf, model_reg, model_clf, score):\n",
    "\n",
    "    cv = KFold(X.shape[0], n_folds=4, shuffle=True) # custom cv\n",
    "\n",
    "    model_clf.fit(X, y_clf)\n",
    "    y_predicted = model_clf.predict(X)\n",
    "    \n",
    "    y1 = y_cont[y_predicted == 0]\n",
    "    y2 = y_cont[y_predicted == 1]\n",
    "    \n",
    "    X1 = X[y_predicted == 0]\n",
    "    X2 = X[y_predicted == 1]\n",
    "    \n",
    "    X1_train, X1_test, y1_train, y1_test = train_test_split(X1, y1, train_size=0.7, random_state=42)\n",
    "    X2_train, X2_test, y2_train, y2_test = train_test_split(X2, y2, train_size=0.7, random_state=42)    \n",
    "    \n",
    "    X_train, y_train = pd.concat((X1_train, X2_train)), pd.concat((y1_train, y2_train))\n",
    "    X_test, y_test = pd.concat((X1_test, X2_test)), pd.concat((y1_test, y2_test))\n",
    "    \n",
    "    model_reg.fit(X_train, y_train)\n",
    "    \n",
    "    score_reg1 = score(model_reg.predict(X_test), y_test)\n",
    "\n",
    "    model_reg_inside1 = copy.copy(model_reg)\n",
    "    model_reg_inside2 = copy.copy(model_reg)\n",
    "    \n",
    "    model_reg_inside1.fit(X1_train, y1_train)\n",
    "    model_reg_inside2.fit(X2_train, y2_train)\n",
    "    \n",
    "    yts = np.concatenate((model_reg_inside1.predict(X1_test), model_reg_inside2.predict(X2_test)))\n",
    "    ytr = np.concatenate((model_reg_inside1.predict(X1_train), model_reg_inside2.predict(X2_train)))\n",
    "    \n",
    "    score_reg2 = score(model_reg.predict(X_test), y_test)\n",
    "    \n",
    "    return score_reg1"
   ]
  },
  {
   "cell_type": "code",
   "execution_count": null,
   "metadata": {},
   "outputs": [],
   "source": [
    "def most_common(model):\n",
    "    t = sorted(list(zip(model.feature_importances_, M1.columns)), reverse=True)[:20]\n",
    "    td = dict([v for v in t])\n",
    "    td2 = {td[k]: k for k in td}\n",
    "    return td2"
   ]
  },
  {
   "cell_type": "code",
   "execution_count": 20,
   "metadata": {},
   "outputs": [],
   "source": [
    "y19 = pd.cut(y1, [0, 1.19, np.inf], labels=[0, 1], include_lowest=True)"
   ]
  },
  {
   "cell_type": "code",
   "execution_count": 2,
   "metadata": {},
   "outputs": [],
   "source": [
    "def cartesian(inp):\n",
    "    return list((dict(zip(inp.keys(), values)) for values in itertools.product(*inp.values())))"
   ]
  },
  {
   "cell_type": "code",
   "execution_count": 3,
   "metadata": {},
   "outputs": [],
   "source": [
    "def prepare_arguments(lists):\n",
    "    params = list(itertools.product(lists))\n",
    "    d = {}\n",
    "    for k, v in params:\n",
    "        if k not in d:\n",
    "            d[k] = []\n",
    "            d[k].append(v)\n",
    "        else:\n",
    "            d[k].append(v)\n",
    "    return d, params"
   ]
  },
  {
   "cell_type": "code",
   "execution_count": 4,
   "metadata": {},
   "outputs": [],
   "source": [
    "def eliminate_by_one(data, target, features, model, arg={}):\n",
    "    \n",
    "    learned_models = []\n",
    "    scores = []\n",
    "    \n",
    "    for feature in tqdm.tqdm(features):\n",
    "\n",
    "        M = data.drop(columns=[feature])\n",
    "        m = model(**arg)\n",
    "        \n",
    "        a = cross_val_score(m, M, target, scoring='r2', cv=KFold(data.shape[0], n_folds=8, shuffle=True), n_jobs=8).mean()\n",
    "        b = cross_val_score(m, M, target, scoring='neg_mean_squared_error', cv=KFold(data.shape[0], n_folds=8, shuffle=True), n_jobs=8).mean()\n",
    "        \n",
    "        scores.append((feature, a, b))\n",
    "        learned_models.append(m)\n",
    "        \n",
    "    return learned_models, scores"
   ]
  },
  {
   "cell_type": "code",
   "execution_count": 75,
   "metadata": {},
   "outputs": [],
   "source": [
    "mo = pickle.load(open('./models/2lgb', 'rb'))"
   ]
  },
  {
   "cell_type": "code",
   "execution_count": 77,
   "metadata": {},
   "outputs": [],
   "source": [
    "mo = mo[1]"
   ]
  },
  {
   "cell_type": "code",
   "execution_count": 87,
   "metadata": {
    "scrolled": true
   },
   "outputs": [
    {
     "data": {
      "text/plain": [
       "'Толщина'"
      ]
     },
     "execution_count": 87,
     "metadata": {},
     "output_type": "execute_result"
    }
   ],
   "source": [
    "M1.columns[68]"
   ]
  },
  {
   "cell_type": "code",
   "execution_count": 80,
   "metadata": {},
   "outputs": [],
   "source": [
    "def get_top20_features(model, names):\n",
    "    return [i[1] for i in sorted(dict(zip(model.feature_importances_, M1.columns)).items(), key=lambda x: x[0], reverse=True)[:20]]"
   ]
  },
  {
   "cell_type": "code",
   "execution_count": 185,
   "metadata": {},
   "outputs": [
    {
     "data": {
      "text/plain": [
       "['Толщина',\n",
       " 'Длина, м',\n",
       " 'Тренд температуры конца прокатки (М12-02)',\n",
       " 'Температура в HEF зона 1',\n",
       " 'Содержание H2 в SF3 (MP1)',\n",
       " 'Температура в SF3 зона 2',\n",
       " 'Значение CO в SF1 (MP3)',\n",
       " 'Температура полосы на левой моталке (проход 5)',\n",
       " 'Содержание NH3 в SF3 (MP2)',\n",
       " 'Содержание H2 в SF1 (MP4)',\n",
       " 'Температура в RTF зона 4',\n",
       " 'Точка росы в RTF',\n",
       " 'Содержание H2 в HEF (MP1)',\n",
       " 'Содержание H2 в SF1 (MP3)',\n",
       " 'Температура полосы на левой моталке (проход 1)',\n",
       " 'Ск_0.0028',\n",
       " 'Температура в ATC1 зона 1',\n",
       " 'Температура в SF3 зона 1',\n",
       " 'Температура в SF1 зона 1',\n",
       " 'Содержание H2 в SF1 (MP2)']"
      ]
     },
     "execution_count": 185,
     "metadata": {},
     "output_type": "execute_result"
    }
   ],
   "source": [
    "f"
   ]
  },
  {
   "cell_type": "code",
   "execution_count": 139,
   "metadata": {},
   "outputs": [],
   "source": [
    "f = get_top20_features(pickle.load(open('./models/2lgb', 'rb'))[1], M1.columns)"
   ]
  },
  {
   "cell_type": "code",
   "execution_count": 176,
   "metadata": {},
   "outputs": [
    {
     "name": "stderr",
     "output_type": "stream",
     "text": [
      "\n",
      "  0%|          | 0/20 [00:00<?, ?it/s]\u001b[A\n",
      "  5%|▌         | 1/20 [00:11<03:35, 11.34s/it]\u001b[A\n",
      " 10%|█         | 2/20 [00:25<03:36, 12.04s/it]\u001b[A\n",
      " 15%|█▌        | 3/20 [00:37<03:27, 12.22s/it]\u001b[A\n",
      " 20%|██        | 4/20 [00:50<03:17, 12.37s/it]\u001b[A\n",
      " 25%|██▌       | 5/20 [01:03<03:09, 12.65s/it]\u001b[A\n",
      " 30%|███       | 6/20 [01:16<02:59, 12.85s/it]\u001b[A\n",
      " 35%|███▌      | 7/20 [01:29<02:46, 12.79s/it]\u001b[A\n",
      " 40%|████      | 8/20 [01:42<02:34, 12.87s/it]\u001b[A\n",
      " 45%|████▌     | 9/20 [01:55<02:20, 12.81s/it]\u001b[A\n",
      " 50%|█████     | 10/20 [02:08<02:10, 13.03s/it]\u001b[A\n",
      " 55%|█████▌    | 11/20 [02:22<01:57, 13.08s/it]\u001b[A\n",
      " 60%|██████    | 12/20 [02:35<01:44, 13.11s/it]\u001b[A\n",
      " 65%|██████▌   | 13/20 [02:48<01:31, 13.13s/it]\u001b[A\n",
      " 70%|███████   | 14/20 [03:01<01:19, 13.23s/it]\u001b[A\n",
      " 75%|███████▌  | 15/20 [03:15<01:06, 13.21s/it]\u001b[A\n",
      " 80%|████████  | 16/20 [03:27<00:52, 13.11s/it]\u001b[A\n",
      " 85%|████████▌ | 17/20 [03:40<00:38, 12.99s/it]\u001b[A\n",
      " 90%|█████████ | 18/20 [03:53<00:25, 12.80s/it]\u001b[A\n",
      " 95%|█████████▌| 19/20 [04:05<00:12, 12.81s/it]\u001b[A\n",
      "100%|██████████| 20/20 [04:19<00:00, 13.01s/it]\u001b[A\n",
      "\u001b[A"
     ]
    }
   ],
   "source": [
    "a, b = eliminate_by_one(M1, y1, f, LGBMRegressor)"
   ]
  },
  {
   "cell_type": "code",
   "execution_count": 186,
   "metadata": {},
   "outputs": [],
   "source": [
    "test_gbm = LGBMRegressor()"
   ]
  },
  {
   "cell_type": "code",
   "execution_count": 160,
   "metadata": {},
   "outputs": [
    {
     "data": {
      "text/plain": [
       "LGBMRegressor(boosting_type='gbdt', class_weight=None, colsample_bytree=1.0,\n",
       "       importance_type='split', learning_rate=0.1, max_depth=-1,\n",
       "       min_child_samples=20, min_child_weight=0.001, min_split_gain=0.0,\n",
       "       n_estimators=100, n_jobs=-1, num_leaves=31, objective=None,\n",
       "       random_state=None, reg_alpha=0.0, reg_lambda=0.0, silent=True,\n",
       "       subsample=1.0, subsample_for_bin=200000, subsample_freq=0)"
      ]
     },
     "execution_count": 160,
     "metadata": {},
     "output_type": "execute_result"
    }
   ],
   "source": [
    "test_gbm.fit(M1.drop(columns=['Толщина']), y1)"
   ]
  },
  {
   "cell_type": "code",
   "execution_count": 188,
   "metadata": {},
   "outputs": [
    {
     "data": {
      "text/plain": [
       "-0.0005679114385426987"
      ]
     },
     "execution_count": 188,
     "metadata": {},
     "output_type": "execute_result"
    }
   ],
   "source": [
    "cross_val_score(test_gbm, M1, y1, cv=KFold(M1.shape[0], 8, True), scoring='neg_mean_squared_error').mean()"
   ]
  },
  {
   "cell_type": "code",
   "execution_count": 189,
   "metadata": {},
   "outputs": [
    {
     "data": {
      "text/plain": [
       "[('Толщина', ('Толщина', 0.9688717698779534, -0.0006970583804656188)),\n",
       " ('Ск_0.0028', ('Ск_0.0028', 0.9770791574759295, -0.0005880796488466175)),\n",
       " ('Температура в ATC1 зона 1',\n",
       "  ('Температура в ATC1 зона 1', 0.976946120858267, -0.0005517855848966543)),\n",
       " ('Температура в RTF зона 4',\n",
       "  ('Температура в RTF зона 4', 0.976560738808923, -0.0005446404028223611)),\n",
       " ('Содержание H2 в SF1 (MP4)',\n",
       "  ('Содержание H2 в SF1 (MP4)', 0.9761428941832406, -0.0005303459385252003)),\n",
       " ('Содержание H2 в HEF (MP1)',\n",
       "  ('Содержание H2 в HEF (MP1)', 0.9767070871902039, -0.0005297961890880079)),\n",
       " ('Температура в SF1 зона 1',\n",
       "  ('Температура в SF1 зона 1', 0.9770476193294687, -0.0005282368156462688)),\n",
       " ('Тренд температуры конца прокатки (М12-02)',\n",
       "  ('Тренд температуры конца прокатки (М12-02)',\n",
       "   0.977017409667448,\n",
       "   -0.0005281016614591728)),\n",
       " ('Температура полосы на левой моталке (проход 5)',\n",
       "  ('Температура полосы на левой моталке (проход 5)',\n",
       "   0.9768515217151171,\n",
       "   -0.0005186801143353893)),\n",
       " ('Длина, м', ('Длина, м', 0.975546200569093, -0.0005181703205828192)),\n",
       " ('Точка росы в RTF',\n",
       "  ('Точка росы в RTF', 0.9767237287251216, -0.0005178791542547191)),\n",
       " ('Содержание H2 в SF3 (MP1)',\n",
       "  ('Содержание H2 в SF3 (MP1)', 0.976514698701045, -0.0005155049075659623)),\n",
       " ('Значение CO в SF1 (MP3)',\n",
       "  ('Значение CO в SF1 (MP3)', 0.9766452863813526, -0.0005131354082039805)),\n",
       " ('Содержание H2 в SF1 (MP2)',\n",
       "  ('Содержание H2 в SF1 (MP2)', 0.976824100666189, -0.0005110246034239108)),\n",
       " ('Температура в SF3 зона 2',\n",
       "  ('Температура в SF3 зона 2', 0.9767979913406473, -0.0005108045572188716)),\n",
       " ('Температура полосы на левой моталке (проход 1)',\n",
       "  ('Температура полосы на левой моталке (проход 1)',\n",
       "   0.9760694852201055,\n",
       "   -0.0005099894011460869)),\n",
       " ('Температура в SF3 зона 1',\n",
       "  ('Температура в SF3 зона 1', 0.9760570647452844, -0.0005092365848853353)),\n",
       " ('Температура в HEF зона 1',\n",
       "  ('Температура в HEF зона 1', 0.9758214830625185, -0.0005079025230583321)),\n",
       " ('Содержание H2 в SF1 (MP3)',\n",
       "  ('Содержание H2 в SF1 (MP3)', 0.9767572724445299, -0.0005010013723137719)),\n",
       " ('Содержание NH3 в SF3 (MP2)',\n",
       "  ('Содержание NH3 в SF3 (MP2)', 0.9757830393149491, -0.0005005085110480739))]"
      ]
     },
     "execution_count": 189,
     "metadata": {},
     "output_type": "execute_result"
    }
   ],
   "source": [
    "sorted(list(zip(f, b)), key=lambda x: x[1][2])"
   ]
  },
  {
   "cell_type": "code",
   "execution_count": 179,
   "metadata": {},
   "outputs": [
    {
     "name": "stderr",
     "output_type": "stream",
     "text": [
      "\n",
      "  0%|          | 0/20 [00:00<?, ?it/s]\u001b[A\n",
      "  5%|▌         | 1/20 [01:33<29:34, 93.42s/it]\u001b[A\n",
      " 10%|█         | 2/20 [03:08<28:12, 94.04s/it]\u001b[A\n",
      " 15%|█▌        | 3/20 [04:43<26:42, 94.28s/it]\u001b[A\n",
      " 20%|██        | 4/20 [06:25<25:44, 96.52s/it]\u001b[A\n",
      " 25%|██▌       | 5/20 [08:05<24:21, 97.47s/it]\u001b[A\n",
      " 30%|███       | 6/20 [09:42<22:42, 97.35s/it]\u001b[A\n",
      " 35%|███▌      | 7/20 [11:19<21:06, 97.42s/it]\u001b[A\n",
      " 40%|████      | 8/20 [12:59<19:35, 98.00s/it]\u001b[A\n",
      " 45%|████▌     | 9/20 [14:38<18:03, 98.51s/it]\u001b[A\n",
      " 50%|█████     | 10/20 [16:15<16:18, 97.82s/it]\u001b[A\n",
      " 55%|█████▌    | 11/20 [17:50<14:33, 97.04s/it]\u001b[A\n",
      " 60%|██████    | 12/20 [19:30<13:03, 97.88s/it]\u001b[A\n",
      " 65%|██████▌   | 13/20 [21:08<11:25, 97.96s/it]\u001b[A\n",
      " 70%|███████   | 14/20 [22:46<09:47, 97.89s/it]\u001b[A\n",
      " 75%|███████▌  | 15/20 [24:25<08:11, 98.27s/it]\u001b[A\n",
      " 80%|████████  | 16/20 [26:00<06:29, 97.42s/it]\u001b[A\n",
      " 85%|████████▌ | 17/20 [27:39<04:53, 97.77s/it]\u001b[A\n",
      " 90%|█████████ | 18/20 [29:15<03:14, 97.29s/it]\u001b[A\n",
      " 95%|█████████▌| 19/20 [30:56<01:38, 98.53s/it]\u001b[A\n",
      "100%|██████████| 20/20 [32:36<00:00, 98.88s/it]\u001b[A\n",
      "\u001b[A"
     ]
    }
   ],
   "source": [
    "a1, b1 = eliminate_by_one(M1, y1, f, XGBRegressor)"
   ]
  },
  {
   "cell_type": "code",
   "execution_count": 181,
   "metadata": {},
   "outputs": [
    {
     "data": {
      "text/plain": [
       "[('Толщина', ('Толщина', 0.9151643317806023, -0.0018921114175268884)),\n",
       " ('Значение CO в SF1 (MP3)',\n",
       "  ('Значение CO в SF1 (MP3)', 0.9268500077242052, -0.0017080135683053145)),\n",
       " ('Содержание H2 в SF1 (MP2)',\n",
       "  ('Содержание H2 в SF1 (MP2)', 0.9256839034223909, -0.001684566123198606)),\n",
       " ('Температура в RTF зона 4',\n",
       "  ('Температура в RTF зона 4', 0.9256962545935066, -0.0016792057263746688)),\n",
       " ('Температура в SF3 зона 1',\n",
       "  ('Температура в SF3 зона 1', 0.9276671823178911, -0.0016663614148294643)),\n",
       " ('Содержание H2 в HEF (MP1)',\n",
       "  ('Содержание H2 в HEF (MP1)', 0.9284931010185071, -0.0016618596108426194)),\n",
       " ('Содержание H2 в SF1 (MP4)',\n",
       "  ('Содержание H2 в SF1 (MP4)', 0.9260674866942948, -0.001660949136229925)),\n",
       " ('Температура в SF1 зона 1',\n",
       "  ('Температура в SF1 зона 1', 0.9270080233937975, -0.0016596449847505266)),\n",
       " ('Температура полосы на левой моталке (проход 1)',\n",
       "  ('Температура полосы на левой моталке (проход 1)',\n",
       "   0.9253209843867287,\n",
       "   -0.0016525895623159801)),\n",
       " ('Содержание NH3 в SF3 (MP2)',\n",
       "  ('Содержание NH3 в SF3 (MP2)', 0.926549383461557, -0.0016499405166674492)),\n",
       " ('Тренд температуры конца прокатки (М12-02)',\n",
       "  ('Тренд температуры конца прокатки (М12-02)',\n",
       "   0.9266877943021471,\n",
       "   -0.0016470512822354504)),\n",
       " ('Ск_0.0028', ('Ск_0.0028', 0.9272426709392222, -0.0016404138585433398)),\n",
       " ('Содержание H2 в SF3 (MP1)',\n",
       "  ('Содержание H2 в SF3 (MP1)', 0.9247380347497711, -0.0016384667564887175)),\n",
       " ('Содержание H2 в SF1 (MP3)',\n",
       "  ('Содержание H2 в SF1 (MP3)', 0.9276341944784441, -0.0016368198116033105)),\n",
       " ('Длина, м', ('Длина, м', 0.9275150591791603, -0.0016335999680971438)),\n",
       " ('Точка росы в RTF',\n",
       "  ('Точка росы в RTF', 0.926733206830135, -0.001626333447277281)),\n",
       " ('Температура полосы на левой моталке (проход 5)',\n",
       "  ('Температура полосы на левой моталке (проход 5)',\n",
       "   0.9261472702525229,\n",
       "   -0.0016043914005807115)),\n",
       " ('Температура в ATC1 зона 1',\n",
       "  ('Температура в ATC1 зона 1', 0.9261845240927877, -0.001602458140463485)),\n",
       " ('Температура в SF3 зона 2',\n",
       "  ('Температура в SF3 зона 2', 0.9268879088136016, -0.0016004134122575308)),\n",
       " ('Температура в HEF зона 1',\n",
       "  ('Температура в HEF зона 1', 0.9258969985176564, -0.0015955295620835896))]"
      ]
     },
     "execution_count": 181,
     "metadata": {},
     "output_type": "execute_result"
    }
   ],
   "source": [
    "sorted(list(zip(f, b1)), key=lambda x: x[1][2])"
   ]
  },
  {
   "cell_type": "code",
   "execution_count": 218,
   "metadata": {},
   "outputs": [],
   "source": [
    "params = {'n_estimators': [10 * k for k in range(1, 5)], 'max_depth': list(range(3, 10))}"
   ]
  },
  {
   "cell_type": "code",
   "execution_count": 230,
   "metadata": {},
   "outputs": [
    {
     "name": "stderr",
     "output_type": "stream",
     "text": [
      "100%|██████████| 28/28 [14:11<00:00, 55.74s/it]\n"
     ]
    }
   ],
   "source": [
    "res = []\n",
    "for inp in tqdm.tqdm(cartesian(params)):\n",
    "    res.append(evaluate_silently(M1, y1, y19, RandomForestRegressor(**inp), RandomForestClassifier(), mse))"
   ]
  },
  {
   "cell_type": "code",
   "execution_count": 237,
   "metadata": {},
   "outputs": [],
   "source": [
    "p = sorted(list(zip(res, cartesian(params))))[0][1]"
   ]
  },
  {
   "cell_type": "code",
   "execution_count": 238,
   "metadata": {
    "collapsed": true
   },
   "outputs": [
    {
     "name": "stdout",
     "output_type": "stream",
     "text": [
      "Cross-val-score, accuracy: 0.9956\n",
      "Cross-val-score, f1_score: 0.9969\n",
      "Cross-val-score, precision: 0.9976\n",
      "Cross-val-score, recall: 0.9964\n",
      "Cross-val-score, roc-auc: 0.9988\n",
      "\n",
      "r2_score - исходная модель (test / train): 0.920927 / 0.929067\n",
      "--------------------\n",
      "mean_squared_error - исходная модель (test / train): 0.001535 / 0.001459\n",
      "--------------------\n",
      "\n",
      "r2_score - обработанная модель (test / train): 0.980422 / 0.985752\n",
      "--------------------\n",
      "mean_squared_error - обработанная модель (test / train): 0.000411 / 0.000315\n",
      "--------------------\n"
     ]
    },
    {
     "data": {
      "text/plain": [
       "(RandomForestClassifier(bootstrap=True, class_weight=None, criterion='gini',\n",
       "             max_depth=None, max_features='auto', max_leaf_nodes=None,\n",
       "             min_impurity_decrease=0.0, min_impurity_split=None,\n",
       "             min_samples_leaf=1, min_samples_split=2,\n",
       "             min_weight_fraction_leaf=0.0, n_estimators=10, n_jobs=1,\n",
       "             oob_score=False, random_state=None, verbose=0,\n",
       "             warm_start=False),\n",
       " RandomForestRegressor(bootstrap=True, criterion='mse', max_depth=9,\n",
       "            max_features='auto', max_leaf_nodes=None,\n",
       "            min_impurity_decrease=0.0, min_impurity_split=None,\n",
       "            min_samples_leaf=1, min_samples_split=2,\n",
       "            min_weight_fraction_leaf=0.0, n_estimators=10, n_jobs=1,\n",
       "            oob_score=False, random_state=None, verbose=0, warm_start=False),\n",
       " RandomForestRegressor(bootstrap=True, criterion='mse', max_depth=9,\n",
       "            max_features='auto', max_leaf_nodes=None,\n",
       "            min_impurity_decrease=0.0, min_impurity_split=None,\n",
       "            min_samples_leaf=1, min_samples_split=2,\n",
       "            min_weight_fraction_leaf=0.0, n_estimators=10, n_jobs=1,\n",
       "            oob_score=False, random_state=None, verbose=0, warm_start=False),\n",
       " RandomForestRegressor(bootstrap=True, criterion='mse', max_depth=9,\n",
       "            max_features='auto', max_leaf_nodes=None,\n",
       "            min_impurity_decrease=0.0, min_impurity_split=None,\n",
       "            min_samples_leaf=1, min_samples_split=2,\n",
       "            min_weight_fraction_leaf=0.0, n_estimators=10, n_jobs=1,\n",
       "            oob_score=False, random_state=None, verbose=0, warm_start=False))"
      ]
     },
     "execution_count": 238,
     "metadata": {},
     "output_type": "execute_result"
    }
   ],
   "source": [
    "evaluate(M1, y1, y19, RandomForestRegressor(**p), RandomForestClassifier(), [r2_score, mse])"
   ]
  },
  {
   "cell_type": "code",
   "execution_count": 10,
   "metadata": {
    "scrolled": true
   },
   "outputs": [
    {
     "data": {
      "image/png": "[encoded data removed]",
      "text/plain": [
       "<Figure size 504x360 with 1 Axes>"
      ]
     },
     "metadata": {
      "needs_background": "light"
     },
     "output_type": "display_data"
    }
   ],
   "source": [
    "plt.figure(figsize=(7, 5))\n",
    "sns.distplot(y1, bins=100)\n",
    "plt.title('Распределение целевой переменной')\n",
    "plt.ylabel('Число попаданий в определенный интервал')\n",
    "plt.savefig('dist')"
   ]
  },
  {
   "cell_type": "code",
   "execution_count": 11,
   "metadata": {},
   "outputs": [],
   "source": [
    "from sklearn.preprocessing import StandardScaler"
   ]
  },
  {
   "cell_type": "code",
   "execution_count": 12,
   "metadata": {},
   "outputs": [],
   "source": [
    "M2 = StandardScaler()"
   ]
  },
  {
   "cell_type": "code",
   "execution_count": 25,
   "metadata": {},
   "outputs": [
    {
     "name": "stderr",
     "output_type": "stream",
     "text": [
      "/anaconda3/lib/python3.7/site-packages/sklearn/preprocessing/data.py:625: DataConversionWarning: Data with input dtype uint8, float64 were all converted to float64 by StandardScaler.\n",
      "  return self.partial_fit(X, y)\n",
      "/anaconda3/lib/python3.7/site-packages/sklearn/base.py:462: DataConversionWarning: Data with input dtype uint8, float64 were all converted to float64 by StandardScaler.\n",
      "  return self.fit(X, **fit_params).transform(X)\n"
     ]
    }
   ],
   "source": [
    "X = pd.DataFrame(M2.fit_transform(M1))"
   ]
  },
  {
   "cell_type": "code",
   "execution_count": 32,
   "metadata": {},
   "outputs": [
    {
     "name": "stdout",
     "output_type": "stream",
     "text": [
      "Cross-val-score, accuracy: 0.9781\n",
      "Cross-val-score, f1_score: 0.9850\n",
      "Cross-val-score, precision: 0.9851\n",
      "Cross-val-score, recall: 0.9841\n",
      "Cross-val-score, roc-auc: 0.9975\n",
      "\n"
     ]
    },
    {
     "name": "stderr",
     "output_type": "stream",
     "text": [
      "/anaconda3/lib/python3.7/site-packages/sklearn/linear_model/logistic.py:433: FutureWarning: Default solver will be changed to 'lbfgs' in 0.22. Specify a solver to silence this warning.\n",
      "  FutureWarning)\n",
      "/anaconda3/lib/python3.7/site-packages/sklearn/model_selection/_split.py:2179: FutureWarning: From version 0.21, test_size will always complement train_size unless both are specified.\n",
      "  FutureWarning)\n"
     ]
    },
    {
     "name": "stdout",
     "output_type": "stream",
     "text": [
      "r2_score - исходная модель (test / train): 0.812468 / 0.823975\n",
      "--------------------\n",
      "\n",
      "r2_score - обработанная модель (test / train): 0.893396 / 0.901905\n",
      "--------------------\n"
     ]
    }
   ],
   "source": [
    "a, b, c, d = evaluate(X, y1, y19, LinearRegression(), LogisticRegression(), [r2_score])"
   ]
  },
  {
   "cell_type": "code",
   "execution_count": 113,
   "metadata": {},
   "outputs": [],
   "source": [
    "def get_top20_features(model, names, title):\n",
    "\n",
    "    xgb_importance({v: k for k, v in sorted(dict(zip(np.abs(a.coef_[0]), M1.columns)).items(), key=lambda x: x[0], reverse=True)[:20]}, show_values=False, height=1)\n",
    "    plt.title(title)\n",
    "    plt.xlabel('Feature Importance')"
   ]
  },
  {
   "cell_type": "code",
   "execution_count": 132,
   "metadata": {},
   "outputs": [
    {
     "data": {
      "image/png": "[encoded data removed]",
      "text/plain": [
       "<Figure size 432x288 with 1 Axes>"
      ]
     },
     "metadata": {
      "needs_background": "light"
     },
     "output_type": "display_data"
    }
   ],
   "source": [
    "get_top20_features(a.coef_, M1.columns, 'Linear Models - Classification')\n"
   ]
  },
  {
   "cell_type": "code",
   "execution_count": 126,
   "metadata": {},
   "outputs": [
    {
     "name": "stderr",
     "output_type": "stream",
     "text": [
      "/anaconda3/lib/python3.7/site-packages/sklearn/base.py:251: UserWarning: Trying to unpickle estimator LogisticRegression from version 0.19.2 when using version 0.20.2. This might lead to breaking code or invalid results. Use at your own risk.\n",
      "  UserWarning)\n",
      "/anaconda3/lib/python3.7/site-packages/sklearn/base.py:251: UserWarning: Trying to unpickle estimator LinearRegression from version 0.19.2 when using version 0.20.2. This might lead to breaking code or invalid results. Use at your own risk.\n",
      "  UserWarning)\n",
      "/anaconda3/lib/python3.7/site-packages/sklearn/base.py:251: UserWarning: Trying to unpickle estimator LinearRegression from version 0.19.2 when using version 0.20.2. This might lead to breaking code or invalid results. Use at your own risk.\n",
      "  UserWarning)\n",
      "/anaconda3/lib/python3.7/site-packages/sklearn/base.py:251: UserWarning: Trying to unpickle estimator LinearRegression from version 0.19.2 when using version 0.20.2. This might lead to breaking code or invalid results. Use at your own risk.\n",
      "  UserWarning)\n"
     ]
    }
   ],
   "source": [
    "q = pickle.load(open('./models/2lrlr', 'rb'))"
   ]
  },
  {
   "cell_type": "code",
   "execution_count": 131,
   "metadata": {},
   "outputs": [
    {
     "data": {
      "image/png": "[encoded data removed]",
      "text/plain": [
       "<Figure size 432x288 with 1 Axes>"
      ]
     },
     "metadata": {
      "needs_background": "light"
     },
     "output_type": "display_data"
    }
   ],
   "source": [
    "get_top20_features(q[0].coef_, M1.columns, 'Linear Models - Regression (1-2)')"
   ]
  },
  {
   "cell_type": "code",
   "execution_count": null,
   "metadata": {},
   "outputs": [],
   "source": []
  },
  {
   "cell_type": "code",
   "execution_count": 103,
   "metadata": {},
   "outputs": [
    {
     "data": {
      "text/plain": [
       "<matplotlib.axes._subplots.AxesSubplot at 0x1a20c16fd0>"
      ]
     },
     "execution_count": 103,
     "metadata": {},
     "output_type": "execute_result"
    },
    {
     "data": {
      "image/png": "[encoded data removed]",
      "text/plain": [
       "<Figure size 432x288 with 1 Axes>"
      ]
     },
     "metadata": {
      "needs_background": "light"
     },
     "output_type": "display_data"
    }
   ],
   "source": [
    "xgb_importance({v: k for k, v in sorted(dict(zip(np.abs(a.coef_[0]), M1.columns)).items(), key=lambda x: x[0], reverse=True)[:20]}, show_values=False, height=1)"
   ]
  },
  {
   "cell_type": "code",
   "execution_count": null,
   "metadata": {},
   "outputs": [],
   "source": []
  },
  {
   "cell_type": "code",
   "execution_count": null,
   "metadata": {},
   "outputs": [],
   "source": []
  },
  {
   "cell_type": "code",
   "execution_count": null,
   "metadata": {},
   "outputs": [],
   "source": []
  },
  {
   "cell_type": "code",
   "execution_count": 359,
   "metadata": {},
   "outputs": [],
   "source": [
    "pickle.dump([mc, mr, mr1, mr2], open('1rf', 'wb'))"
   ]
  },
  {
   "cell_type": "code",
   "execution_count": 321,
   "metadata": {},
   "outputs": [
    {
     "name": "stdout",
     "output_type": "stream",
     "text": [
      "Cross-val-score, accuracy: 0.9267\n",
      "Cross-val-score, f1_score: 0.9335\n",
      "Cross-val-score, precision: 0.9367\n",
      "Cross-val-score, recall: 0.9330\n",
      "Cross-val-score, roc-auc: 0.9625\n",
      "\n",
      "r2_score - исходная модель (test / train): 0.988563 / 0.997269\n",
      "--------------------\n",
      "mean_squared_error - исходная модель (test / train): 0.000260 / 0.000060\n",
      "--------------------\n",
      "\n",
      "r2_score - обработанная модель (test / train): 0.991016 / 0.997219\n",
      "--------------------\n",
      "mean_squared_error - обработанная модель (test / train): 0.000204 / 0.000061\n",
      "--------------------\n"
     ]
    }
   ],
   "source": [
    "mc, mr, mr1, mr2 = evaluate(M1, y1, y, RandomForestRegressor(), RandomForestClassifier(), [r2_score, mse])"
   ]
  },
  {
   "cell_type": "code",
   "execution_count": 101,
   "metadata": {},
   "outputs": [
    {
     "name": "stdout",
     "output_type": "stream",
     "text": [
      "Cross-val-score, accuracy: 0.9953\n",
      "Cross-val-score, f1_score: 0.9967\n",
      "Cross-val-score, precision: 0.9975\n",
      "Cross-val-score, recall: 0.9961\n",
      "Cross-val-score, roc-auc: 0.9989\n",
      "\n",
      "r2_score - исходная модель (test / train): 0.985642 / 0.996561\n",
      "--------------------\n",
      "mean_squared_error - исходная модель (test / train): 0.000303 / 0.000077\n",
      "--------------------\n",
      "\n",
      "r2_score - обработанная модель (test / train): 0.986309 / 0.997237\n",
      "--------------------\n",
      "mean_squared_error - обработанная модель (test / train): 0.000293 / 0.000062\n",
      "--------------------\n"
     ]
    }
   ],
   "source": [
    "mc, mr, mr1, mr2 = evaluate(M1, y1, y19, RandomForestRegressor(), RandomForestClassifier(), [r2_score, mse])"
   ]
  },
  {
   "cell_type": "code",
   "execution_count": 255,
   "metadata": {},
   "outputs": [],
   "source": [
    "imp = sorted(dict(zip(M1.columns, mc.feature_importances_)).items(), key=lambda x: x[1], reverse=True)"
   ]
  },
  {
   "cell_type": "code",
   "execution_count": 258,
   "metadata": {},
   "outputs": [
    {
     "data": {
      "text/plain": [
       "0.0012336447515382718"
      ]
     },
     "execution_count": 258,
     "metadata": {},
     "output_type": "execute_result"
    }
   ],
   "source": [
    "dict(zip(M1.columns, mc.feature_importances_))['Толщина']"
   ]
  },
  {
   "cell_type": "code",
   "execution_count": null,
   "metadata": {},
   "outputs": [],
   "source": [
    "evaluate(M1, y1, y19, LGBMRegressor(), LGBMRegressor(), [r2_score, mse])"
   ]
  },
  {
   "cell_type": "code",
   "execution_count": 360,
   "metadata": {},
   "outputs": [],
   "source": [
    "pickle.dump([cl, ml, ml1, ml2], open('1lgbm', 'wb'))"
   ]
  },
  {
   "cell_type": "code",
   "execution_count": 324,
   "metadata": {},
   "outputs": [
    {
     "name": "stdout",
     "output_type": "stream",
     "text": [
      "Cross-val-score, accuracy: 0.8553\n",
      "Cross-val-score, f1_score: 0.8757\n",
      "Cross-val-score, precision: 0.8451\n",
      "Cross-val-score, recall: 0.9087\n",
      "Cross-val-score, roc-auc: 0.9372\n",
      "\n",
      "r2_score - исходная модель (test / train): 0.975698 / 0.981970\n",
      "--------------------\n",
      "mean_squared_error - исходная модель (test / train): 0.000512 / 0.000391\n",
      "--------------------\n",
      "\n",
      "r2_score - обработанная модель (test / train): 0.977751 / 0.986993\n",
      "--------------------\n",
      "mean_squared_error - обработанная модель (test / train): 0.000475 / 0.000286\n",
      "--------------------\n"
     ]
    }
   ],
   "source": [
    "cl, ml, ml1, ml2 = evaluate(M1, y1, y, LGBMRegressor(), LGBMClassifier(), [r2_score, mse])"
   ]
  },
  {
   "cell_type": "code",
   "execution_count": 335,
   "metadata": {},
   "outputs": [],
   "source": [
    "t = sorted(list(zip(mr.feature_importances_, M1.columns)), reverse=True)[:20]\n",
    "td = dict([v for v in t])\n",
    "td2 = {td[k]: k for k in td}"
   ]
  },
  {
   "cell_type": "code",
   "execution_count": 354,
   "metadata": {},
   "outputs": [
    {
     "data": {
      "image/png": "[encoded data removed]",
      "text/plain": [
       "<Figure size 432x288 with 1 Axes>"
      ]
     },
     "metadata": {
      "needs_background": "light"
     },
     "output_type": "display_data"
    }
   ],
   "source": [
    "xgb_importance(td2, height=1, show_values=False)\n",
    "plt.savefig('1rf_importance')"
   ]
  },
  {
   "cell_type": "code",
   "execution_count": 328,
   "metadata": {},
   "outputs": [
    {
     "data": {
      "image/png": "[encoded data removed]",
      "text/plain": [
       "<Figure size 432x288 with 1 Axes>"
      ]
     },
     "metadata": {
      "needs_background": "light"
     },
     "output_type": "display_data"
    }
   ],
   "source": [
    "lgb_importance(ml, max_num_features=20, height=1)\n",
    "plt.savefig('1lgb_importance')"
   ]
  },
  {
   "cell_type": "code",
   "execution_count": 74,
   "metadata": {},
   "outputs": [
    {
     "name": "stdout",
     "output_type": "stream",
     "text": [
      "Cross-val-score, accuracy: 0.9883\n",
      "\n",
      "r2_score - исходная модель (test / train): 0.909207 / 0.910796\n",
      "--------------------\n",
      "mean_squared_error - исходная модель (test / train): 0.001603 / 0.001592\n",
      "--------------------\n",
      "\n",
      "r2_score - обработанная модель (test / train): 0.956658 / 0.961193\n",
      "--------------------\n",
      "mean_squared_error - обработанная модель (test / train): 0.000882 / 0.000797\n",
      "--------------------\n"
     ]
    }
   ],
   "source": [
    "evaluate(M1, y1, y19, XGBRegressor(), XGBClassifier(), [r2_score, mse])"
   ]
  },
  {
   "cell_type": "code",
   "execution_count": 357,
   "metadata": {},
   "outputs": [],
   "source": [
    "import pickle"
   ]
  },
  {
   "cell_type": "code",
   "execution_count": 361,
   "metadata": {},
   "outputs": [],
   "source": [
    "pickle.dump([xc, xr, x1, x2], open('1xgb', 'wb'))"
   ]
  },
  {
   "cell_type": "code",
   "execution_count": 184,
   "metadata": {},
   "outputs": [
    {
     "name": "stderr",
     "output_type": "stream",
     "text": [
      "/anaconda3/lib/python3.7/site-packages/sklearn/preprocessing/label.py:151: DeprecationWarning: The truth value of an empty array is ambiguous. Returning False, but in future this will result in an error. Use `array.size > 0` to check that an array is not empty.\n",
      "  if diff:\n",
      "/anaconda3/lib/python3.7/site-packages/sklearn/preprocessing/label.py:151: DeprecationWarning: The truth value of an empty array is ambiguous. Returning False, but in future this will result in an error. Use `array.size > 0` to check that an array is not empty.\n",
      "  if diff:\n",
      "/anaconda3/lib/python3.7/site-packages/sklearn/preprocessing/label.py:151: DeprecationWarning: The truth value of an empty array is ambiguous. Returning False, but in future this will result in an error. Use `array.size > 0` to check that an array is not empty.\n",
      "  if diff:\n",
      "/anaconda3/lib/python3.7/site-packages/sklearn/preprocessing/label.py:151: DeprecationWarning: The truth value of an empty array is ambiguous. Returning False, but in future this will result in an error. Use `array.size > 0` to check that an array is not empty.\n",
      "  if diff:\n"
     ]
    },
    {
     "name": "stdout",
     "output_type": "stream",
     "text": [
      "Cross-val-score, accuracy: 0.9030\n"
     ]
    },
    {
     "name": "stderr",
     "output_type": "stream",
     "text": [
      "/anaconda3/lib/python3.7/site-packages/sklearn/preprocessing/label.py:151: DeprecationWarning: The truth value of an empty array is ambiguous. Returning False, but in future this will result in an error. Use `array.size > 0` to check that an array is not empty.\n",
      "  if diff:\n",
      "/anaconda3/lib/python3.7/site-packages/sklearn/preprocessing/label.py:151: DeprecationWarning: The truth value of an empty array is ambiguous. Returning False, but in future this will result in an error. Use `array.size > 0` to check that an array is not empty.\n",
      "  if diff:\n",
      "/anaconda3/lib/python3.7/site-packages/sklearn/preprocessing/label.py:151: DeprecationWarning: The truth value of an empty array is ambiguous. Returning False, but in future this will result in an error. Use `array.size > 0` to check that an array is not empty.\n",
      "  if diff:\n",
      "/anaconda3/lib/python3.7/site-packages/sklearn/preprocessing/label.py:151: DeprecationWarning: The truth value of an empty array is ambiguous. Returning False, but in future this will result in an error. Use `array.size > 0` to check that an array is not empty.\n",
      "  if diff:\n"
     ]
    },
    {
     "name": "stdout",
     "output_type": "stream",
     "text": [
      "Cross-val-score, f1_score: 0.9154\n"
     ]
    },
    {
     "name": "stderr",
     "output_type": "stream",
     "text": [
      "/anaconda3/lib/python3.7/site-packages/sklearn/preprocessing/label.py:151: DeprecationWarning: The truth value of an empty array is ambiguous. Returning False, but in future this will result in an error. Use `array.size > 0` to check that an array is not empty.\n",
      "  if diff:\n",
      "/anaconda3/lib/python3.7/site-packages/sklearn/preprocessing/label.py:151: DeprecationWarning: The truth value of an empty array is ambiguous. Returning False, but in future this will result in an error. Use `array.size > 0` to check that an array is not empty.\n",
      "  if diff:\n",
      "/anaconda3/lib/python3.7/site-packages/sklearn/preprocessing/label.py:151: DeprecationWarning: The truth value of an empty array is ambiguous. Returning False, but in future this will result in an error. Use `array.size > 0` to check that an array is not empty.\n",
      "  if diff:\n",
      "/anaconda3/lib/python3.7/site-packages/sklearn/preprocessing/label.py:151: DeprecationWarning: The truth value of an empty array is ambiguous. Returning False, but in future this will result in an error. Use `array.size > 0` to check that an array is not empty.\n",
      "  if diff:\n"
     ]
    },
    {
     "name": "stdout",
     "output_type": "stream",
     "text": [
      "Cross-val-score, precision: 0.8960\n"
     ]
    },
    {
     "name": "stderr",
     "output_type": "stream",
     "text": [
      "/anaconda3/lib/python3.7/site-packages/sklearn/preprocessing/label.py:151: DeprecationWarning: The truth value of an empty array is ambiguous. Returning False, but in future this will result in an error. Use `array.size > 0` to check that an array is not empty.\n",
      "  if diff:\n",
      "/anaconda3/lib/python3.7/site-packages/sklearn/preprocessing/label.py:151: DeprecationWarning: The truth value of an empty array is ambiguous. Returning False, but in future this will result in an error. Use `array.size > 0` to check that an array is not empty.\n",
      "  if diff:\n",
      "/anaconda3/lib/python3.7/site-packages/sklearn/preprocessing/label.py:151: DeprecationWarning: The truth value of an empty array is ambiguous. Returning False, but in future this will result in an error. Use `array.size > 0` to check that an array is not empty.\n",
      "  if diff:\n",
      "/anaconda3/lib/python3.7/site-packages/sklearn/preprocessing/label.py:151: DeprecationWarning: The truth value of an empty array is ambiguous. Returning False, but in future this will result in an error. Use `array.size > 0` to check that an array is not empty.\n",
      "  if diff:\n"
     ]
    },
    {
     "name": "stdout",
     "output_type": "stream",
     "text": [
      "Cross-val-score, recall: 0.9358\n",
      "Cross-val-score, roc-auc: 0.9569\n",
      "\n"
     ]
    },
    {
     "ename": "KeyboardInterrupt",
     "evalue": "",
     "output_type": "error",
     "traceback": [
      "\u001b[0;31m---------------------------------------------------------------------------\u001b[0m",
      "\u001b[0;31mKeyboardInterrupt\u001b[0m                         Traceback (most recent call last)",
      "\u001b[0;32m<ipython-input-184-ecd80c103d75>\u001b[0m in \u001b[0;36m<module>\u001b[0;34m()\u001b[0m\n\u001b[0;32m----> 1\u001b[0;31m \u001b[0mxc\u001b[0m\u001b[0;34m,\u001b[0m \u001b[0mxr\u001b[0m\u001b[0;34m,\u001b[0m \u001b[0mx1\u001b[0m\u001b[0;34m,\u001b[0m \u001b[0mx2\u001b[0m \u001b[0;34m=\u001b[0m \u001b[0mevaluate\u001b[0m\u001b[0;34m(\u001b[0m\u001b[0mM1\u001b[0m\u001b[0;34m,\u001b[0m \u001b[0my1\u001b[0m\u001b[0;34m,\u001b[0m \u001b[0my\u001b[0m\u001b[0;34m,\u001b[0m \u001b[0mXGBRegressor\u001b[0m\u001b[0;34m(\u001b[0m\u001b[0mmax_depth\u001b[0m\u001b[0;34m=\u001b[0m\u001b[0;36m10\u001b[0m\u001b[0;34m)\u001b[0m\u001b[0;34m,\u001b[0m \u001b[0mXGBClassifier\u001b[0m\u001b[0;34m(\u001b[0m\u001b[0mmax_depth\u001b[0m\u001b[0;34m=\u001b[0m\u001b[0;36m10\u001b[0m\u001b[0;34m)\u001b[0m\u001b[0;34m,\u001b[0m \u001b[0;34m[\u001b[0m\u001b[0mr2_score\u001b[0m\u001b[0;34m,\u001b[0m \u001b[0mmse\u001b[0m\u001b[0;34m]\u001b[0m\u001b[0;34m)\u001b[0m\u001b[0;34m\u001b[0m\u001b[0m\n\u001b[0m",
      "\u001b[0;32m<ipython-input-2-f1a9c2737f7e>\u001b[0m in \u001b[0;36mevaluate\u001b[0;34m(X, y_cont, y_clf, model_reg, model_clf, score)\u001b[0m\n\u001b[1;32m     11\u001b[0m     \u001b[0mprint\u001b[0m\u001b[0;34m(\u001b[0m\u001b[0;34m)\u001b[0m\u001b[0;34m\u001b[0m\u001b[0m\n\u001b[1;32m     12\u001b[0m \u001b[0;34m\u001b[0m\u001b[0m\n\u001b[0;32m---> 13\u001b[0;31m     \u001b[0mmodel_clf\u001b[0m\u001b[0;34m.\u001b[0m\u001b[0mfit\u001b[0m\u001b[0;34m(\u001b[0m\u001b[0mX\u001b[0m\u001b[0;34m,\u001b[0m \u001b[0my_clf\u001b[0m\u001b[0;34m)\u001b[0m\u001b[0;34m\u001b[0m\u001b[0m\n\u001b[0m\u001b[1;32m     14\u001b[0m     \u001b[0my_predicted\u001b[0m \u001b[0;34m=\u001b[0m \u001b[0mmodel_clf\u001b[0m\u001b[0;34m.\u001b[0m\u001b[0mpredict\u001b[0m\u001b[0;34m(\u001b[0m\u001b[0mX\u001b[0m\u001b[0;34m)\u001b[0m\u001b[0;34m\u001b[0m\u001b[0m\n\u001b[1;32m     15\u001b[0m \u001b[0;34m\u001b[0m\u001b[0m\n",
      "\u001b[0;32m/anaconda3/lib/python3.7/site-packages/xgboost/sklearn.py\u001b[0m in \u001b[0;36mfit\u001b[0;34m(self, X, y, sample_weight, eval_set, eval_metric, early_stopping_rounds, verbose, xgb_model, sample_weight_eval_set, callbacks)\u001b[0m\n\u001b[1;32m    698\u001b[0m                               \u001b[0mevals_result\u001b[0m\u001b[0;34m=\u001b[0m\u001b[0mevals_result\u001b[0m\u001b[0;34m,\u001b[0m \u001b[0mobj\u001b[0m\u001b[0;34m=\u001b[0m\u001b[0mobj\u001b[0m\u001b[0;34m,\u001b[0m \u001b[0mfeval\u001b[0m\u001b[0;34m=\u001b[0m\u001b[0mfeval\u001b[0m\u001b[0;34m,\u001b[0m\u001b[0;34m\u001b[0m\u001b[0m\n\u001b[1;32m    699\u001b[0m                               \u001b[0mverbose_eval\u001b[0m\u001b[0;34m=\u001b[0m\u001b[0mverbose\u001b[0m\u001b[0;34m,\u001b[0m \u001b[0mxgb_model\u001b[0m\u001b[0;34m=\u001b[0m\u001b[0;32mNone\u001b[0m\u001b[0;34m,\u001b[0m\u001b[0;34m\u001b[0m\u001b[0m\n\u001b[0;32m--> 700\u001b[0;31m                               callbacks=callbacks)\n\u001b[0m\u001b[1;32m    701\u001b[0m \u001b[0;34m\u001b[0m\u001b[0m\n\u001b[1;32m    702\u001b[0m         \u001b[0mself\u001b[0m\u001b[0;34m.\u001b[0m\u001b[0mobjective\u001b[0m \u001b[0;34m=\u001b[0m \u001b[0mxgb_options\u001b[0m\u001b[0;34m[\u001b[0m\u001b[0;34m\"objective\"\u001b[0m\u001b[0;34m]\u001b[0m\u001b[0;34m\u001b[0m\u001b[0m\n",
      "\u001b[0;32m/anaconda3/lib/python3.7/site-packages/xgboost/training.py\u001b[0m in \u001b[0;36mtrain\u001b[0;34m(params, dtrain, num_boost_round, evals, obj, feval, maximize, early_stopping_rounds, evals_result, verbose_eval, xgb_model, callbacks, learning_rates)\u001b[0m\n\u001b[1;32m    214\u001b[0m                            \u001b[0mevals\u001b[0m\u001b[0;34m=\u001b[0m\u001b[0mevals\u001b[0m\u001b[0;34m,\u001b[0m\u001b[0;34m\u001b[0m\u001b[0m\n\u001b[1;32m    215\u001b[0m                            \u001b[0mobj\u001b[0m\u001b[0;34m=\u001b[0m\u001b[0mobj\u001b[0m\u001b[0;34m,\u001b[0m \u001b[0mfeval\u001b[0m\u001b[0;34m=\u001b[0m\u001b[0mfeval\u001b[0m\u001b[0;34m,\u001b[0m\u001b[0;34m\u001b[0m\u001b[0m\n\u001b[0;32m--> 216\u001b[0;31m                            xgb_model=xgb_model, callbacks=callbacks)\n\u001b[0m\u001b[1;32m    217\u001b[0m \u001b[0;34m\u001b[0m\u001b[0m\n\u001b[1;32m    218\u001b[0m \u001b[0;34m\u001b[0m\u001b[0m\n",
      "\u001b[0;32m/anaconda3/lib/python3.7/site-packages/xgboost/training.py\u001b[0m in \u001b[0;36m_train_internal\u001b[0;34m(params, dtrain, num_boost_round, evals, obj, feval, xgb_model, callbacks)\u001b[0m\n\u001b[1;32m     72\u001b[0m         \u001b[0;31m# Skip the first update if it is a recovery step.\u001b[0m\u001b[0;34m\u001b[0m\u001b[0;34m\u001b[0m\u001b[0m\n\u001b[1;32m     73\u001b[0m         \u001b[0;32mif\u001b[0m \u001b[0mversion\u001b[0m \u001b[0;34m%\u001b[0m \u001b[0;36m2\u001b[0m \u001b[0;34m==\u001b[0m \u001b[0;36m0\u001b[0m\u001b[0;34m:\u001b[0m\u001b[0;34m\u001b[0m\u001b[0m\n\u001b[0;32m---> 74\u001b[0;31m             \u001b[0mbst\u001b[0m\u001b[0;34m.\u001b[0m\u001b[0mupdate\u001b[0m\u001b[0;34m(\u001b[0m\u001b[0mdtrain\u001b[0m\u001b[0;34m,\u001b[0m \u001b[0mi\u001b[0m\u001b[0;34m,\u001b[0m \u001b[0mobj\u001b[0m\u001b[0;34m)\u001b[0m\u001b[0;34m\u001b[0m\u001b[0m\n\u001b[0m\u001b[1;32m     75\u001b[0m             \u001b[0mbst\u001b[0m\u001b[0;34m.\u001b[0m\u001b[0msave_rabit_checkpoint\u001b[0m\u001b[0;34m(\u001b[0m\u001b[0;34m)\u001b[0m\u001b[0;34m\u001b[0m\u001b[0m\n\u001b[1;32m     76\u001b[0m             \u001b[0mversion\u001b[0m \u001b[0;34m+=\u001b[0m \u001b[0;36m1\u001b[0m\u001b[0;34m\u001b[0m\u001b[0m\n",
      "\u001b[0;32m/anaconda3/lib/python3.7/site-packages/xgboost/core.py\u001b[0m in \u001b[0;36mupdate\u001b[0;34m(self, dtrain, iteration, fobj)\u001b[0m\n\u001b[1;32m   1043\u001b[0m         \u001b[0;32mif\u001b[0m \u001b[0mfobj\u001b[0m \u001b[0;32mis\u001b[0m \u001b[0;32mNone\u001b[0m\u001b[0;34m:\u001b[0m\u001b[0;34m\u001b[0m\u001b[0m\n\u001b[1;32m   1044\u001b[0m             _check_call(_LIB.XGBoosterUpdateOneIter(self.handle, ctypes.c_int(iteration),\n\u001b[0;32m-> 1045\u001b[0;31m                                                     dtrain.handle))\n\u001b[0m\u001b[1;32m   1046\u001b[0m         \u001b[0;32melse\u001b[0m\u001b[0;34m:\u001b[0m\u001b[0;34m\u001b[0m\u001b[0m\n\u001b[1;32m   1047\u001b[0m             \u001b[0mpred\u001b[0m \u001b[0;34m=\u001b[0m \u001b[0mself\u001b[0m\u001b[0;34m.\u001b[0m\u001b[0mpredict\u001b[0m\u001b[0;34m(\u001b[0m\u001b[0mdtrain\u001b[0m\u001b[0;34m)\u001b[0m\u001b[0;34m\u001b[0m\u001b[0m\n",
      "\u001b[0;31mKeyboardInterrupt\u001b[0m: "
     ]
    }
   ],
   "source": [
    "xc, xr, x1, x2 = evaluate(M1, y1, y, XGBRegressor(max_depth=10), XGBClassifier(max_depth=10), [r2_score, mse])"
   ]
  },
  {
   "cell_type": "code",
   "execution_count": 272,
   "metadata": {},
   "outputs": [],
   "source": [
    "from sklearn.preprocessing import normalize"
   ]
  },
  {
   "cell_type": "code",
   "execution_count": 289,
   "metadata": {},
   "outputs": [],
   "source": [
    "X = pd.DataFrame(normalize(M1, axis=0), columns=M1.columns)"
   ]
  },
  {
   "cell_type": "code",
   "execution_count": 284,
   "metadata": {},
   "outputs": [
    {
     "name": "stdout",
     "output_type": "stream",
     "text": [
      "Cross-val-score, accuracy: 0.8692\n",
      "Cross-val-score, f1_score: 0.9117\n",
      "Cross-val-score, precision: 0.8883\n",
      "Cross-val-score, recall: 0.9365\n",
      "Cross-val-score, roc-auc: 0.9076\n",
      "\n",
      "r2_score - исходная модель (test / train): 0.821719 / 0.820292\n",
      "--------------------\n",
      "mean_squared_error - исходная модель (test / train): 0.003354 / 0.003427\n",
      "--------------------\n",
      "\n",
      "r2_score - обработанная модель (test / train): -0.000114 / 0.868696\n",
      "--------------------\n",
      "mean_squared_error - обработанная модель (test / train): 4502.915997 / 0.002611\n",
      "--------------------\n"
     ]
    },
    {
     "data": {
      "text/plain": [
       "(LogisticRegression(C=1.0, class_weight=None, dual=False, fit_intercept=True,\n",
       "           intercept_scaling=1, max_iter=100, multi_class='ovr', n_jobs=1,\n",
       "           penalty='l2', random_state=None, solver='liblinear', tol=0.0001,\n",
       "           verbose=0, warm_start=False),\n",
       " LinearRegression(copy_X=True, fit_intercept=True, n_jobs=1, normalize=False),\n",
       " LinearRegression(copy_X=True, fit_intercept=True, n_jobs=1, normalize=False),\n",
       " LinearRegression(copy_X=True, fit_intercept=True, n_jobs=1, normalize=False))"
      ]
     },
     "execution_count": 284,
     "metadata": {},
     "output_type": "execute_result"
    }
   ],
   "source": [
    "evaluate(M1, y1, y19, LinearRegression(), LogisticRegression(), [r2_score, mse])"
   ]
  },
  {
   "cell_type": "code",
   "execution_count": 312,
   "metadata": {},
   "outputs": [],
   "source": [
    "from sklearn.linear_model import Ridge, Lasso"
   ]
  },
  {
   "cell_type": "code",
   "execution_count": 362,
   "metadata": {},
   "outputs": [],
   "source": [
    "pickle.dump([c, r, r1, r2], open('1lrlr', 'wb'))"
   ]
  },
  {
   "cell_type": "code",
   "execution_count": 320,
   "metadata": {},
   "outputs": [
    {
     "name": "stdout",
     "output_type": "stream",
     "text": [
      "Cross-val-score, accuracy: 0.7533\n",
      "Cross-val-score, f1_score: 0.7556\n",
      "Cross-val-score, precision: 0.8505\n",
      "Cross-val-score, recall: 0.6798\n",
      "Cross-val-score, roc-auc: 0.8459\n",
      "\n",
      "r2_score - исходная модель (test / train): 0.819602 / 0.820785\n",
      "--------------------\n",
      "mean_squared_error - исходная модель (test / train): 0.003346 / 0.003436\n",
      "--------------------\n",
      "\n",
      "r2_score - обработанная модель (test / train): 0.868533 / 0.876305\n",
      "--------------------\n",
      "mean_squared_error - обработанная модель (test / train): 0.002560 / 0.002489\n",
      "--------------------\n"
     ]
    }
   ],
   "source": [
    "c, r, r1, r2 = evaluate(X, y1, y, LinearRegression(), LogisticRegression(), [r2_score, mse])"
   ]
  },
  {
   "cell_type": "code",
   "execution_count": 319,
   "metadata": {
    "collapsed": true
   },
   "outputs": [
    {
     "data": {
      "text/plain": [
       "[(-1.683045118289414, 'Дата начала обработки_2017-09-13 14:44:15'),\n",
       " (-1.1442737462394874, 'Дата обработки АТОиП-5_2017-08-26 05:33:24'),\n",
       " (-1.1442737462394872, '№ партии АТОиП№5_580815'),\n",
       " (-1.1442737462394854, 'Партия АНО ПДС_580815'),\n",
       " (-0.9157900542283696, 'Weekday2_5'),\n",
       " (-0.8796929452980257, 'Дата начала обработки_2017-08-29 22:20:26'),\n",
       " (-0.8640626397947138, 'Дата начала обработки_2017-08-28 22:59:34'),\n",
       " (-0.8383137115379861, 'Партия АНО ПДС_580817'),\n",
       " (-0.838313711537986, 'Дата обработки АТОиП-5_2017-08-26 09:15:12'),\n",
       " (-0.8383137115379853, '№ партии АТОиП№5_580817'),\n",
       " (-0.7745433656618567, 'Nк_0.023'),\n",
       " (-0.7379652349451471, 'Дата начала обработки_2017-08-29 22:20:03'),\n",
       " (-0.7162403178654357, 'Дата начала обработки_2017-09-14 21:10:20'),\n",
       " (-0.7087886649721364, '№ Колпака_140'),\n",
       " (-0.7087886649721347, '№ Стенда_139'),\n",
       " (-0.7087886649721326, 'Стенд_139'),\n",
       " (-0.7087886649721326, '№ Отжига_430'),\n",
       " (-0.6792974593205878, 'Дата начала обработки_2017-09-13 15:08:09'),\n",
       " (-0.6383451067358201, 'Ск_0.0031'),\n",
       " (-0.6312699252822639, 'Углерод_0.054000000000000006'),\n",
       " (-0.6312699252822634, 'Титан_0.003'),\n",
       " (-0.6312699252822629, 'Азот_0.0077'),\n",
       " (-0.6312699252822627, '№ плавки_1717431'),\n",
       " (-0.631269925282262, 'Кремний_3.3310000000000004'),\n",
       " (-0.6165053660604076, 'Nсреднее_0.024'),\n",
       " (-0.6165053660604076, 'Партия АНО ПДС_580803'),\n",
       " (-0.6165053660604074, 'Дата обработки АТОиП-5_2017-08-25 10:22:34'),\n",
       " (-0.6165053660604074, '№ партии АТОиП№5_580803'),\n",
       " (-0.5981130531726736, '№ рулона_1.0'),\n",
       " (-0.5931666248327255, 'Nн_0.022000000000000002'),\n",
       " (-0.5900775874391111, 'Nсреднее_0.0225'),\n",
       " (-0.5693201027436373, 'Поз.  ВТО_6'),\n",
       " (-0.5693201027436371, 'Позиция ВТО_6'),\n",
       " (-0.5568737673580432, 'Дата начала обработки_2017-08-30 22:48:18'),\n",
       " (-0.5538853086220293, 'Дата начала обработки_2017-09-13 15:08:30'),\n",
       " (-0.5263415445386059, 'Позиция ВТО_4'),\n",
       " (-0.5263415445386047, 'Поз.  ВТО_4'),\n",
       " (-0.5262046053484233, 'Стенд_10'),\n",
       " (-0.5262046053484223, '№ Стенда_10'),\n",
       " (-0.5232418725200826, 'Дата начала обработки_2017-09-13 15:08:13'),\n",
       " (-0.5153698532400481, 'Толщ._0.27'),\n",
       " (-0.5113233017035129, 'Nсреднее_0.022000000000000002'),\n",
       " (-0.509500533700124, 'dср, мкм_23'),\n",
       " (-0.5041360176707805, 'Nн_0.023'),\n",
       " (-0.49267305628516445, 'Дата начала обработки_2017-09-13 15:07:58'),\n",
       " (-0.48360902848363885, 'Ск_0.0026'),\n",
       " (-0.4836090284836384, 'Дата обработки АТОиП-5_2017-08-26 16:28:53'),\n",
       " (-0.48360902848363835, 'Партия АНО ПДС_580821'),\n",
       " (-0.48360902848363607, '№ партии АТОиП№5_580821'),\n",
       " (-0.480939557974139, 'Дата начала обработки_2017-09-14 14:54:25'),\n",
       " (-0.4727986414401874, '№ Отжига_323'),\n",
       " (-0.4644878027440118, 'Дата начала обработки_2017-09-13 14:43:58'),\n",
       " (-0.4568073994368726, 'Weekday1_3'),\n",
       " (-0.45385819223900825, 'Nк_0.024'),\n",
       " (-0.4509970465357267, 'Свойства ВПС_2.0'),\n",
       " (-0.4471690663969097, 'Партия АНО ПДС_580806'),\n",
       " (-0.447169066396909, 'Дата начала обработки_2017-09-12 22:47:22'),\n",
       " (-0.4286378646119534, 'Партия АНО ПДС_580793'),\n",
       " (-0.42863786461195336, 'Дата обработки АТОиП-5_2017-08-24 18:50:55'),\n",
       " (-0.42863786461195336, '№ партии АТОиП№5_580793'),\n",
       " (-0.427308864351753, 'Значение CO2 в SF1 (MP4)'),\n",
       " (-0.41943818060122834, 'Nк_0.02'),\n",
       " (-0.4130373787537575, 'Партия АНО ПДС_580798'),\n",
       " (-0.41303737875375646, '№ партии АТОиП№5_580798'),\n",
       " (-0.4130373787537559, 'Дата обработки АТОиП-5_2017-08-25 03:04:23'),\n",
       " (-0.40693687325429967, 'cold4_len'),\n",
       " (-0.406232279802421, 'cold2_len'),\n",
       " (-0.39931374825339006, 'Дата обработки АТОиП-5_2017-08-25 15:37:50'),\n",
       " (-0.39931374825339, '№ партии АТОиП№5_580807'),\n",
       " (-0.39931374825338967, 'Ск_0.0039'),\n",
       " (-0.39931374825338956, '№ рулона АТОиП№5_12'),\n",
       " (-0.3920422403087756, 'Значение CO2 в SF1 (MP2)'),\n",
       " (-0.3876031749768828, 'Дата начала обработки_2017-08-29 06:27:17'),\n",
       " (-0.38531699097960254, '№ партии АТОиП№5_580819'),\n",
       " (-0.3853169909796017, 'Партия АНО ПДС_580819'),\n",
       " (-0.38531699097960137, '№ рулона АТОиП№5_61'),\n",
       " (-0.38531699097960115, 'Дата обработки АТОиП-5_2017-08-26 12:44:37'),\n",
       " (-0.37956513630627775, 'Партия АНО ПДС_580811'),\n",
       " (-0.3795651363062764, 'Дата обработки АТОиП-5_2017-08-25 22:36:01'),\n",
       " (-0.37956513630627625, 'Ск_0.0034'),\n",
       " (-0.37956513630627614, '№ партии АТОиП№5_580811'),\n",
       " (-0.37185780256196, 'Алюминий_0.027999999999999997'),\n",
       " (-0.3718578025619569, 'Хром_0.11'),\n",
       " (-0.34317338362082417, '№ Отжига_325'),\n",
       " (-0.3363717637552953, '№ партии АТОиП№5_580806'),\n",
       " (-0.3363717637552949, 'Дата обработки АТОиП-5_2017-08-25 14:52:52'),\n",
       " (-0.3363717637552947, '№ рулона АТОиП№5_11'),\n",
       " (-0.33637176375529443, 'Ск_0.0037'),\n",
       " (-0.31333465982891945, 'ЗВО_4.0'),\n",
       " (-0.3101926305297818, 'Дата начала обработки_2017-09-14 14:54:40'),\n",
       " (-0.30260289591261974, '№ Отжига_324'),\n",
       " (-0.29966686484081334, '№ рулона АТОиП№5_40'),\n",
       " (-0.295403394482387, 'Ширина_1000'),\n",
       " (-0.29454213189748624, 'Дата начала обработки_2017-08-29 06:27:24'),\n",
       " (-0.29020265283281477, 'Ск_0.0025'),\n",
       " (-0.2902026528328146, 'Дата обработки АТОиП-5_2017-08-25 01:10:23'),\n",
       " (-0.29020265283281443, '№ рулона АТОиП№5_70'),\n",
       " (-0.2902026528328141, 'Партия АНО ПДС_580797'),\n",
       " (-0.2902026528328141, '№ партии АТОиП№5_580797'),\n",
       " (-0.28603401319419364, 'Партия АНО ПДС_580809'),\n",
       " (-0.28603401319419297, 'Ск_0.0042'),\n",
       " (-0.28603401319419247, 'Дата обработки АТОиП-5_2017-08-25 18:57:58'),\n",
       " (-0.28603401319419225, '№ партии АТОиП№5_580809'),\n",
       " (-0.2815093557451033, 'Дата начала обработки_2017-09-14 21:10:23'),\n",
       " (-0.274387677789114, '№ Колпака_7'),\n",
       " (-0.27333843894325033, '№ Колпака_5'),\n",
       " (-0.2696860011188041, 'Daytime1_Night'),\n",
       " (-0.26968600111880386, '№ Отжига_304'),\n",
       " (-0.2696860011188033, '№ Колпака_8'),\n",
       " (-0.26587991372752207, 'Партия АНО ПДС_580807'),\n",
       " (-0.265879913727522, 'Дата начала обработки_2017-09-12 22:47:18'),\n",
       " (-0.2653944472378987, 'Дата начала обработки_2017-09-12 22:46:34'),\n",
       " (-0.2649913777228928, 'Дата начала обработки_2017-08-30 22:48:44'),\n",
       " (-0.25544841046690214, 'Дата начала обработки_2017-09-14 21:10:15'),\n",
       " (-0.24985515581308604, '№ Стенда_7'),\n",
       " (-0.24985515581308504, 'Стенд_7'),\n",
       " (-0.2497999526541227, 'Фосфор_0.024'),\n",
       " (-0.24669737920348894, 'Nн_0.026000000000000002'),\n",
       " (-0.2401542773661493, 'Углерод_0.055999999999999994'),\n",
       " (-0.24015427736614406, '№ плавки_1717423'),\n",
       " (-0.24015427736614395, 'Марганец_0.16'),\n",
       " (-0.24015427736614367, 'Кремний_3.32'),\n",
       " (-0.22868395063767963, 'Дата начала обработки_2017-09-14 14:54:44'),\n",
       " (-0.22598697950734276, 'Сера_0.006'),\n",
       " (-0.2255458553212961, 'Nсреднее_0.023'),\n",
       " (-0.22447865569454112, 'Значение CO2 в SF1 (MP3)'),\n",
       " (-0.2233005830677968, 'Дата начала обработки_2017-08-28 22:59:29'),\n",
       " (-0.20792336163336608, 'Nк_0.021'),\n",
       " (-0.207862560601953, 'Дата начала обработки_2017-09-14 21:10:09'),\n",
       " (-0.20299727835445527, 'Значение CO2 в SF1 (MP1)'),\n",
       " (-0.20167066132325037, 'Дата обработки АТОиП-5_2017-08-25 17:25:33'),\n",
       " (-0.20167066132325012, '№ партии АТОиП№5_580808'),\n",
       " (-0.20167066132324996, 'Ск_0.0041'),\n",
       " (-0.20167066132324887, 'Партия АНО ПДС_580808'),\n",
       " (-0.195263812240401, 'Дата начала обработки_2017-08-29 06:27:10'),\n",
       " (-0.19474146662332711, 'Ск_0.0028'),\n",
       " (-0.1868027744244057, 'Дата начала обработки_2017-08-28 22:59:25'),\n",
       " (-0.17548011128749844, 'Дата начала обработки_2017-09-14 14:54:37'),\n",
       " (-0.1712766107444037, 'Поз.  ВТО_5'),\n",
       " (-0.17127661074440326, 'Позиция ВТО_5'),\n",
       " (-0.16421029524180375, '№ партии АТОиП№5_580814'),\n",
       " (-0.16421029524180367, 'Nсреднее_0.0215'),\n",
       " (-0.16421029524180353, 'Дата обработки АТОиП-5_2017-08-26 03:46:43'),\n",
       " (-0.1642102952418035, 'Nн_0.021'),\n",
       " (-0.16421029524180317, '№ рулона АТОиП№5_60'),\n",
       " (-0.1642102952418025, 'Партия АНО ПДС_580814'),\n",
       " (-0.13986370905489104, 'Значение CO2 в RTF'),\n",
       " (-0.12555101364047347, 'Температура полосы на левой моталке (проход 1)'),\n",
       " (-0.12431824609504592, 'Значение CO в SF1 (MP4)'),\n",
       " (-0.11750054881890742, '№ плавки_1717428'),\n",
       " (-0.11750054881890726, 'Азот_0.0083'),\n",
       " (-0.11750054881890719, 'Кремний_3.315'),\n",
       " (-0.10923714643868838, 'Daytime2_Night'),\n",
       " (-0.10294096438905068, 'О2к'),\n",
       " (-0.10163595381269946, '№ Стенда_9'),\n",
       " (-0.10163595381269923, 'Стенд_9'),\n",
       " (-0.10163595381269908, '№ Отжига_307'),\n",
       " (-0.09389996820127573, 'Weekday1_0'),\n",
       " (-0.09389996820127514, '№ Отжига_303'),\n",
       " (-0.08410083467212749, 'Партия АНО ПДС_580805'),\n",
       " (-0.08410083467212691, '№ партии АТОиП№5_580805'),\n",
       " (-0.0841008346721268, 'Дата обработки АТОиП-5_2017-08-25 14:02:35'),\n",
       " (-0.0824342069848752, '№ рулона АТОиП№5_50'),\n",
       " (-0.0788681391783036, 'Свойства ВПС_1.0'),\n",
       " (-0.07612572941581487, 'ЗВО_3.0'),\n",
       " (-0.0704574726806226, 'dср, мкм_24'),\n",
       " (-0.06896094150595128, 'Олово_0.002'),\n",
       " (-0.06896094150595097, 'Азот_0.0075'),\n",
       " (-0.06823927547752982, 'Значение CO в SF1 (MP3)'),\n",
       " (-0.06576082066171492, 'Температура полосы на левой моталке (проход 3)'),\n",
       " (-0.06523152891041907, 'Дата начала обработки_2017-09-13 14:43:44'),\n",
       " (-0.05164733508085661, 'Дата начала обработки_2017-08-30 14:40:32'),\n",
       " (-0.04974736454745943, 'Значение CO в SF1 (MP2)'),\n",
       " (-0.0444333544152899, 'Температура полосы на левой моталке (проход 5)'),\n",
       " (-0.04146723586108753, 'Значение CO в SF1 (MP1)'),\n",
       " (-0.03878430000112452, 'О2среднее'),\n",
       " (-0.03137091871088127, 'Масса'),\n",
       " (-0.029670870324728284, 'Температура полосы на правой моталке (проход 2)'),\n",
       " (-0.0271285423214002, '№ Колпака_1'),\n",
       " (-0.024218169578943488, 'norm_len'),\n",
       " (-0.022054058811212796, 'Значение CO в RTF'),\n",
       " (-0.018736154241926033, 'Партия АНО ПДС_580792'),\n",
       " (-0.018736154241925675, 'Nн_0.019'),\n",
       " (-0.018736154241925675, 'Nсреднее_0.02'),\n",
       " (-0.018736154241925672, '№ партии АТОиП№5_580792'),\n",
       " (-0.018736154241925537, 'Дата обработки АТОиП-5_2017-08-24 17:05:01'),\n",
       " (-0.018418522566273177, 'Дата обработки АТОиП-5_2017-08-26 00:24:41'),\n",
       " (-0.018418522566273014, '№ партии АТОиП№5_580812'),\n",
       " (-0.01841852256627275, 'Партия АНО ПДС_580812'),\n",
       " (-0.018247998048900694, 'Партия АНО ПДС_580810'),\n",
       " (-0.0182479980489004, '№ рулона АТОиП№5_32'),\n",
       " (-0.01824799804890016, 'Дата обработки АТОиП-5_2017-08-25 20:46:13'),\n",
       " (-0.01824799804889987, '№ партии АТОиП№5_580810'),\n",
       " (-0.014995307785402196, 'Ск_0.0029'),\n",
       " (-0.012508685194226056, 'Точка росы в RTF'),\n",
       " (-0.010519215742511759, 'Температура полосы на правой моталке (проход 4)'),\n",
       " (-0.009971799521990652, 'Точка росы в SF1 (MP3)'),\n",
       " (-0.009670286078222425, 'dср, мкм_26'),\n",
       " (-0.008744252960863664, '№ рулона АТОиП№5_30'),\n",
       " (-0.008246362414218203, 'Содержание NH3 в SF3 (MP1)'),\n",
       " (-0.007349199617797012, 'Точка росы в SF1 (MP2)'),\n",
       " (-0.005046142914263656, 'Содержание H2 в SF1 (MP3)'),\n",
       " (-0.0036557131394410873, 'Тренд температуры конца прокатки (М12-02)'),\n",
       " (-0.0020883760545553996, 'Тренд температуры за 5-й кл. (M12-02)'),\n",
       " (-0.0008363264775782694, 'Тренд температуры смотки (M12-02)'),\n",
       " (-0.0007333292351513861, 'Температура полосы в зоне 7'),\n",
       " (-0.0004177186434135354, 'Температура в RTF зона 1'),\n",
       " (-1.5343951826355555e-05, 'Температура в SF1 зона 1'),\n",
       " (-5.98201871368207e-06, '№ партии'),\n",
       " (6.087107378427816e-05, 'Температура в SF1 зона 4'),\n",
       " (0.00012951082860226194, 'Температура в SF3 зона 2'),\n",
       " (0.00013051888329503833, 'Температура в SF3 зона 3'),\n",
       " (0.00014009508483158313, 'Температура в SF1 зона 6'),\n",
       " (0.0001624465356604771, 'Температура в SF3 зона 1'),\n",
       " (0.00016398058226071012, 'Температура в SF1 зона 3'),\n",
       " (0.00021586833000851937, 'Температура в HEF зона 2'),\n",
       " (0.00021851412295062118, 'Температура в SF1 зона 5'),\n",
       " (0.0002900200219500717, 'Температура в ATC1 зона 2'),\n",
       " (0.0003471735112361469, 'Температура в HEF зона 1'),\n",
       " (0.000363605720838026, 'Температура полосы в зоне 4'),\n",
       " (0.00037303282380129945, 'Температура в ATC1 зона 1'),\n",
       " (0.00041394360316840975, 'Температура в SF1 зона 7'),\n",
       " (0.0004673925581868746, 'Температура полосы в зоне 4B  АН'),\n",
       " (0.0008942313446250853, 'Температура полосы в зоне 4C2 АН'),\n",
       " (0.0010111318559456112, 'Температура в RTF зона 3'),\n",
       " (0.0011199104445803706, 'Температура в RTF зона 2'),\n",
       " (0.0011508912933802335, 'Скорость технологической секции (НС 4)'),\n",
       " (0.001155190084955856, 'Температура в SF1 зона 2'),\n",
       " (0.00180907042073775, 'Температура в RTF зона 5'),\n",
       " (0.0022988214579849424, 'Температура в RTF зона 4'),\n",
       " (0.00313253154950501, 'Содержание H2 в SF1 (MP2)'),\n",
       " (0.0049974804345863716, 'Тренд толщины за 12-й кл.'),\n",
       " (0.005399130761066736, 'Содержание NH3 в SF3 (MP2)'),\n",
       " (0.0054801925440689965, 'Содержание H2 в SF1 (MP1)'),\n",
       " (0.005540924718496895, 'Содержание H2 в SF1 (MP4)'),\n",
       " (0.006215912942556135, 'Содержнание H2 в RTF'),\n",
       " (0.006509654707016637, 'Nк_0.022000000000000002'),\n",
       " (0.009153704292022325, '№ плавки_1717434'),\n",
       " (0.00915370429202486, 'Углерод_0.052000000000000005'),\n",
       " (0.00915370429202505, 'Алюминий_0.028999999999999998'),\n",
       " (0.009153704292025206, 'Кремний_3.255'),\n",
       " (0.009435731530364765, 'Дата начала обработки_2017-08-28 22:59:12'),\n",
       " (0.017114807525332117, 'Содержание H2 в SF3 (MP2)'),\n",
       " (0.019493840570069802, 'Содержание H2 в HEF (MP1)'),\n",
       " (0.019532193341473512, 'Содержание H2 в SF3 (MP1)'),\n",
       " (0.02487614414028593, 'O2н'),\n",
       " (0.027655449966750074, 'Сигнал с датчика механических свойств (ИМПОК-1Б)'),\n",
       " (0.036697994346178216, 'Nк_0.026000000000000002'),\n",
       " (0.03669799434617827, 'Партия АНО ПДС_580823'),\n",
       " (0.03669799434617829, 'Nсреднее_0.026000000000000002'),\n",
       " (0.03669799434617833, '№ рулона АТОиП№5_82'),\n",
       " (0.036697994346178375, 'Ск_0.0024'),\n",
       " (0.03669799434617841, 'Дата обработки АТОиП-5_2017-08-26 19:49:10'),\n",
       " (0.036697994346179125, '№ партии АТОиП№5_580823'),\n",
       " (0.045927327304433975, 'Daytime2_Day'),\n",
       " (0.05758375184845857, 'Марганец_0.14'),\n",
       " (0.058279216314785574, 'Daytime1_Day'),\n",
       " (0.06154104107655234, '№ Стенда_2'),\n",
       " (0.06154104107655246, '№ Отжига_322'),\n",
       " (0.061541041076552665, 'Стенд_2'),\n",
       " (0.06321119687824292, 'Weekday1_2'),\n",
       " (0.06331005443511412, 'Ширина_1040'),\n",
       " (0.07001036389794668, 'Толщина'),\n",
       " (0.07183447711776803, 'Олово_0.003'),\n",
       " (0.0721220812273653, '№ рулона АТОиП№5_80'),\n",
       " (0.07212208122736545, 'Дата обработки АТОиП-5_2017-08-24 23:19:02'),\n",
       " (0.0721220812273655, '№ партии АТОиП№5_580796'),\n",
       " (0.07212208122736573, 'Партия АНО ПДС_580796'),\n",
       " (0.07304963576550821, 'Nн_0.024'),\n",
       " (0.07402278196689624, 'dср, мкм_25'),\n",
       " (0.08343359427762027, 'Weekday2_4'),\n",
       " (0.08410014356005424, 'Дата начала обработки_2017-09-13 14:44:02'),\n",
       " (0.09199717071925344, 'Дата начала обработки_2017-08-28 22:59:19'),\n",
       " (0.09938893815815293, 'Дата начала обработки_2017-08-30 22:48:24'),\n",
       " (0.11748153655341938, 'Ск_0.0032'),\n",
       " (0.1195767170174978, 'Cн'),\n",
       " (0.12100123078932719, 'Толщ._0.3'),\n",
       " (0.13044889144506783, 'Стенд_5'),\n",
       " (0.13044889144506805, '№ Стенда_5'),\n",
       " (0.13582611193132096, 'Ссреднее'),\n",
       " (0.1414543946162964, 'cold3_len'),\n",
       " (0.14240850430087623, 'cold1_len'),\n",
       " (0.1467227301644416, 'Точка росы в HEF (MP1)'),\n",
       " (0.1473453499968221, 'Дата обработки АТОиП-5_2017-08-24 21:28:39'),\n",
       " (0.14734534999682292, '№ партии АТОиП№5_580795'),\n",
       " (0.14734534999682336, 'Партия АНО ПДС_580795'),\n",
       " (0.14821710166756763, 'decarb_len'),\n",
       " (0.15349208669030653, 'ЗВО_3.5'),\n",
       " (0.1535107762955469, 'cold5_len'),\n",
       " (0.16041332947057343, 'Weekday1_1'),\n",
       " (0.16470713138547374, '№ Колпака_2'),\n",
       " (0.1792250729514509, 'Титан_0.002'),\n",
       " (0.185753580520451, 'Поз.  ВТО_3'),\n",
       " (0.18575358052045135, 'Позиция ВТО_3'),\n",
       " (0.20381705495180133, 'Nн_0.025'),\n",
       " (0.2237038170669579, '№ рулона АТОиП№5_10'),\n",
       " (0.24515964551279107, 'Сера_0.005'),\n",
       " (0.24743897227064487, 'Дата начала обработки_2017-08-30 14:40:43'),\n",
       " (0.25221515258015714, 'Дата начала обработки_2017-08-29 06:26:46'),\n",
       " (0.2554726678356102, '№ рулона АТОиП№5_52'),\n",
       " (0.263394493514673, 'Дата начала обработки_2017-08-30 22:48:33'),\n",
       " (0.26437651507356136, 'magn_len'),\n",
       " (0.26779203297002196, '№ рулона АТОиП№5_20'),\n",
       " (0.2804396434145692, 'hot_len'),\n",
       " (0.28786418070020037, 'Длина, м'),\n",
       " (0.30715860572008163, 'Ск_0.0053'),\n",
       " (0.3180971741444377, 'Хром_0.12'),\n",
       " (0.32588002855205744, 'Партия АНО ПДС_580789'),\n",
       " (0.32588002855205783, 'Дата начала обработки_2017-08-30 14:41:02'),\n",
       " (0.33988418025998396, '№ партии АТОиП№5_580790'),\n",
       " (0.3398841802599852, 'dср, мкм_22'),\n",
       " (0.3398841802599853, 'Дата обработки АТОиП-5_2017-08-24 13:43:16'),\n",
       " (0.3490861016838059, 'Углерод_0.055'),\n",
       " (0.3494018224341348, 'Дата начала обработки_2017-09-13 15:08:01'),\n",
       " (0.35166131841925025, '№ рулона АТОиП№5_51'),\n",
       " (0.3516613184192507, '№ партии АТОиП№5_580789'),\n",
       " (0.35166131841925086, 'Дата обработки АТОиП-5_2017-08-24 12:53:45'),\n",
       " (0.35166131841925097, 'Ск_0.0052'),\n",
       " (0.3580689010324121, 'Weekday2_3'),\n",
       " (0.37039145588408845, 'Дата начала обработки_2017-09-14 14:54:22'),\n",
       " (0.3966769139432485, 'Поз.  ВТО_2'),\n",
       " (0.39667691394324905, 'Позиция ВТО_2'),\n",
       " (0.43260739299921697, '№ рулона_2.0'),\n",
       " (0.43382577762639235, '№ Стенда_1'),\n",
       " (0.43382577762639374, '№ Колпака_6'),\n",
       " (0.4338257776263942, '№ Отжига_306'),\n",
       " (0.4338257776263947, 'Стенд_1'),\n",
       " (0.45503369679513167, 'Дата начала обработки_2017-09-14 14:54:31'),\n",
       " (0.4870332818257769, 'Nсреднее_0.0235'),\n",
       " (0.4889965116151095, 'Nк_0.018000000000000002'),\n",
       " (0.48899651161511154, 'Nсреднее_0.019'),\n",
       " (0.4889965116151119, 'Nн_0.02'),\n",
       " (0.5263135319647457, 'Nсреднее_0.0245'),\n",
       " (0.5333711874472965, 'Дата начала обработки_2017-09-13 15:08:26'),\n",
       " (0.5723528943416646, 'Weekday1_5'),\n",
       " (0.5723528943416649, 'Дата начала обработки_2017-09-02 15:30:00'),\n",
       " (0.5723528943416649, '№ партии АТОиП№5_580804'),\n",
       " (0.572352894341665, 'Ск_0.0044'),\n",
       " (0.5723528943416651, 'Дата обработки АТОиП-5_2017-08-25 12:12:24'),\n",
       " (0.5723528943416651, '№ Отжига_309'),\n",
       " (0.5723528943416657, 'Стенд_8'),\n",
       " (0.5723528943416657, '№ Стенда_8'),\n",
       " (0.5723528943416688, 'Партия АНО ПДС_580804'),\n",
       " (0.5787516101082937, '№ Отжига_305'),\n",
       " (0.6259704063382684, 'Дата начала обработки_2017-08-28 22:58:48'),\n",
       " (0.6259704063382698, 'Партия АНО ПДС_580790'),\n",
       " (0.6546166314476098, '№ партии АТОиП№5_580818'),\n",
       " (0.6546166314476113, 'Дата обработки АТОиП-5_2017-08-26 11:04:52'),\n",
       " (0.6546166314476117, 'Партия АНО ПДС_580818'),\n",
       " (0.6981159981688446, 'Дата начала обработки_2017-09-14 21:10:05'),\n",
       " (0.7054533145930896, 'Фосфор_0.025'),\n",
       " (0.7054533145930898, 'Алюминий_0.03'),\n",
       " (0.7097859858372622, '№ партии АТОиП№5_580800'),\n",
       " (0.7097859858372624, 'Дата обработки АТОиП-5_2017-08-25 06:39:09'),\n",
       " (0.7097859858372639, 'Ск_0.003'),\n",
       " (0.7097859858372647, 'Партия АНО ПДС_580800'),\n",
       " (0.74642300488553, 'Позиция ВТО_1'),\n",
       " (0.7464230048855313, 'Поз.  ВТО_1'),\n",
       " (0.9120899224953221, 'Дата начала обработки_2017-08-30 14:40:39'),\n",
       " (0.9641161502363839, 'Nк_0.025'),\n",
       " (1.0527872008302517, 'Свойства ВПС_3.0'),\n",
       " (1.1754684482230504, 'Дата начала обработки_2017-09-12 22:46:29'),\n",
       " (1.183370382904403, 'Дата начала обработки_2017-09-13 14:43:50'),\n",
       " (1.220318811068429, 'Кремний_3.333'),\n",
       " (1.2203188110684293, '№ плавки_1717425'),\n",
       " (1.2203188110684302, 'Азот_0.0069'),\n",
       " (1.240025365922328, 'Дата начала обработки_2017-08-29 22:20:06'),\n",
       " (1.5528366381240581, 'Дата начала обработки_2017-08-29 22:19:57'),\n",
       " (1.9795835186216277, '№ партии АТОиП№5_580802'),\n",
       " (1.9795835186216286, 'Дата обработки АТОиП-5_2017-08-25 08:29:14'),\n",
       " (1.9795835186216297, 'Партия АНО ПДС_580802')]"
      ]
     },
     "execution_count": 319,
     "metadata": {},
     "output_type": "execute_result"
    }
   ],
   "source": [
    "sorted(list(zip(r.coef_, M1.columns)))"
   ]
  },
  {
   "cell_type": "code",
   "execution_count": 3,
   "metadata": {},
   "outputs": [],
   "source": [
    "import keras \n",
    "import keras.backend as K"
   ]
  },
  {
   "cell_type": "code",
   "execution_count": 2,
   "metadata": {},
   "outputs": [
    {
     "name": "stderr",
     "output_type": "stream",
     "text": [
      "Using TensorFlow backend.\n",
      "/anaconda3/lib/python3.7/importlib/_bootstrap.py:219: RuntimeWarning: compiletime version 3.6 of module 'tensorflow.python.framework.fast_tensor_util' does not match runtime version 3.7\n",
      "  return f(*args, **kwds)\n"
     ]
    }
   ],
   "source": [
    "from keras.models import load_model"
   ]
  },
  {
   "cell_type": "code",
   "execution_count": 4,
   "metadata": {},
   "outputs": [],
   "source": [
    "model = load_model('./my_model.h5')"
   ]
  },
  {
   "cell_type": "code",
   "execution_count": 5,
   "metadata": {},
   "outputs": [
    {
     "name": "stdout",
     "output_type": "stream",
     "text": [
      "_________________________________________________________________\n",
      "Layer (type)                 Output Shape              Param #   \n",
      "=================================================================\n",
      "dense_1 (Dense)              (None, 128)               47616     \n",
      "_________________________________________________________________\n",
      "dense_2 (Dense)              (None, 64)                8256      \n",
      "_________________________________________________________________\n",
      "dense_3 (Dense)              (None, 40)                2600      \n",
      "_________________________________________________________________\n",
      "dense_4 (Dense)              (None, 64)                2624      \n",
      "_________________________________________________________________\n",
      "dense_5 (Dense)              (None, 128)               8320      \n",
      "_________________________________________________________________\n",
      "dense_6 (Dense)              (None, 371)               47859     \n",
      "=================================================================\n",
      "Total params: 117,275\n",
      "Trainable params: 117,275\n",
      "Non-trainable params: 0\n",
      "_________________________________________________________________\n"
     ]
    }
   ],
   "source": [
    "model.summary()"
   ]
  },
  {
   "cell_type": "code",
   "execution_count": 12,
   "metadata": {},
   "outputs": [],
   "source": [
    "get_3rd_layer_output = K.function([model.layers[0].input],\n",
    "                                  [model.layers[2].output])\n",
    "layer_output = get_3rd_layer_output([M1])[0]"
   ]
  },
  {
   "cell_type": "code",
   "execution_count": 13,
   "metadata": {
    "scrolled": true
   },
   "outputs": [
    {
     "data": {
      "text/plain": [
       "(48503, 40)"
      ]
     },
     "execution_count": 13,
     "metadata": {},
     "output_type": "execute_result"
    }
   ],
   "source": [
    "layer_output.shape"
   ]
  },
  {
   "cell_type": "code",
   "execution_count": 14,
   "metadata": {},
   "outputs": [],
   "source": [
    "xgb_t = XGBRegressor(max_depth=15)"
   ]
  },
  {
   "cell_type": "code",
   "execution_count": 15,
   "metadata": {},
   "outputs": [
    {
     "name": "stderr",
     "output_type": "stream",
     "text": [
      "/anaconda3/lib/python3.7/site-packages/sklearn/model_selection/_split.py:426: FutureWarning: You should specify a value for 'n_splits' instead of relying on the default value. The default value will change from 3 to 5 in version 0.22.\n",
      "  warnings.warn(NSPLIT_WARNING, FutureWarning)\n"
     ]
    },
    {
     "data": {
      "text/plain": [
       "array([-0.01005074, -0.00928663, -0.00909936])"
      ]
     },
     "execution_count": 15,
     "metadata": {},
     "output_type": "execute_result"
    }
   ],
   "source": [
    "cross_val_score(xgb_t, layer_output, y1, scoring='neg_mean_squared_error', cv=KFold(shuffle=True))"
   ]
  },
  {
   "cell_type": "code",
   "execution_count": 17,
   "metadata": {},
   "outputs": [
    {
     "data": {
      "text/plain": [
       "-0.00947891"
      ]
     },
     "execution_count": 17,
     "metadata": {},
     "output_type": "execute_result"
    }
   ],
   "source": [
    "np.array([-0.01005074, -0.00928663, -0.00909936]).mean()"
   ]
  },
  {
   "cell_type": "code",
   "execution_count": 18,
   "metadata": {},
   "outputs": [
    {
     "data": {
      "text/plain": [
       "0.01"
      ]
     },
     "execution_count": 18,
     "metadata": {},
     "output_type": "execute_result"
    }
   ],
   "source": [
    "0.01"
   ]
  },
  {
   "cell_type": "code",
   "execution_count": null,
   "metadata": {},
   "outputs": [],
   "source": []
  },
  {
   "cell_type": "code",
   "execution_count": null,
   "metadata": {},
   "outputs": [],
   "source": []
  },
  {
   "cell_type": "code",
   "execution_count": 76,
   "metadata": {},
   "outputs": [],
   "source": [
    "y = pd.cut(y1, [0, 1.05, 1.26, np.inf], labels=[0, 1, 2], include_lowest=True)\n",
    "y[y == 2] = 0"
   ]
  },
  {
   "cell_type": "code",
   "execution_count": 78,
   "metadata": {},
   "outputs": [
    {
     "name": "stdout",
     "output_type": "stream",
     "text": [
      "Cross-val-score, accuracy: 0.9275\n",
      "\n",
      "r2_score - исходная модель (test / train): 0.978338 / 0.997578\n",
      "--------------------\n",
      "mean_squared_error - исходная модель (test / train): 0.000489 / 0.000053\n",
      "--------------------\n",
      "\n",
      "r2_score - обработанная модель (test / train): 0.983327 / 0.998000\n",
      "--------------------\n",
      "mean_squared_error - обработанная модель (test / train): 0.000377 / 0.000044\n",
      "--------------------\n"
     ]
    }
   ],
   "source": [
    "evaluate(M1, y1, y, RandomForestRegressor(), RandomForestClassifier(), [r2_score, mse])"
   ]
  },
  {
   "cell_type": "code",
   "execution_count": 79,
   "metadata": {},
   "outputs": [
    {
     "name": "stdout",
     "output_type": "stream",
     "text": [
      "Cross-val-score, accuracy: 0.7961\n",
      "\n",
      "r2_score - исходная модель (test / train): 0.894892 / 0.910810\n",
      "--------------------\n",
      "mean_squared_error - исходная модель (test / train): 0.001826 / 0.001578\n",
      "--------------------\n",
      "\n",
      "r2_score - обработанная модель (test / train): 0.938716 / 0.952345\n",
      "--------------------\n",
      "mean_squared_error - обработанная модель (test / train): 0.001184 / 0.000941\n",
      "--------------------\n"
     ]
    }
   ],
   "source": [
    "evaluate(M1, y1, y, XGBRegressor(), XGBClassifier(), [r2_score, mse])"
   ]
  },
  {
   "cell_type": "code",
   "execution_count": 80,
   "metadata": {},
   "outputs": [
    {
     "name": "stdout",
     "output_type": "stream",
     "text": [
      "Cross-val-score, accuracy: 0.6915\n",
      "\n",
      "r2_score - исходная модель (test / train): 0.812853 / 0.823544\n",
      "--------------------\n",
      "mean_squared_error - исходная модель (test / train): 0.003542 / 0.003347\n",
      "--------------------\n",
      "\n",
      "r2_score - обработанная модель (test / train): 0.000161 / 0.863281\n",
      "--------------------\n",
      "mean_squared_error - обработанная модель (test / train): 158.331376 / 0.002684\n",
      "--------------------\n"
     ]
    }
   ],
   "source": [
    "evaluate(M1, y1, y, LinearRegression(), LogisticRegression(), [r2_score, mse])"
   ]
  },
  {
   "cell_type": "code",
   "execution_count": 411,
   "metadata": {},
   "outputs": [],
   "source": [
    "skb = SelectKBest(k=100)\n",
    "X_skb = skb.fit_transform(M1, y)"
   ]
  },
  {
   "cell_type": "code",
   "execution_count": 412,
   "metadata": {},
   "outputs": [
    {
     "data": {
      "text/plain": [
       "array([0.97902878, 0.97167163, 0.97548224, 0.96935439])"
      ]
     },
     "execution_count": 412,
     "metadata": {},
     "output_type": "execute_result"
    }
   ],
   "source": [
    "rf_skb = RandomForestRegressor()\n",
    "kfold = KFold(M1.shape[0], n_folds=4, shuffle=True)\n",
    "cross_val_score(rf_skb, X_skb, y1, cv=kfold, scoring='r2')"
   ]
  },
  {
   "cell_type": "code",
   "execution_count": 410,
   "metadata": {},
   "outputs": [
    {
     "data": {
      "text/plain": [
       "0.983445675"
      ]
     },
     "execution_count": 410,
     "metadata": {},
     "output_type": "execute_result"
    }
   ],
   "source": [
    "np.array([0.97654907, 0.98953846, 0.98000229, 0.98769288]).mean()"
   ]
  },
  {
   "cell_type": "code",
   "execution_count": 416,
   "metadata": {},
   "outputs": [],
   "source": [
    "rf_skb = RandomForestRegressor()\n",
    "kfold = KFold(M1.shape[0], n_folds=4, shuffle=True)\n",
    "rfecv = RFECV(rf_skb, step=5, cv=kfold, scoring='r2', n_jobs=4)"
   ]
  },
  {
   "cell_type": "code",
   "execution_count": 418,
   "metadata": {},
   "outputs": [
    {
     "data": {
      "text/plain": [
       "RFECV(cv=sklearn.cross_validation.KFold(n=48503, n_folds=4, shuffle=True, random_state=None),\n",
       "   estimator=RandomForestRegressor(bootstrap=True, criterion='mse', max_depth=None,\n",
       "           max_features='auto', max_leaf_nodes=None,\n",
       "           min_impurity_decrease=0.0, min_impurity_split=None,\n",
       "           min_samples_leaf=1, min_samples_split=2,\n",
       "           min_weight_fraction_leaf=0.0, n_estimators=10, n_jobs=1,\n",
       "           oob_score=False, random_state=None, verbose=0, warm_start=False),\n",
       "   n_jobs=4, scoring='r2', step=5, verbose=0)"
      ]
     },
     "execution_count": 418,
     "metadata": {},
     "output_type": "execute_result"
    }
   ],
   "source": [
    "rfecv.fit(M1, y1)"
   ]
  },
  {
   "cell_type": "code",
   "execution_count": 448,
   "metadata": {
    "collapsed": true
   },
   "outputs": [
    {
     "data": {
      "text/plain": [
       "{'Дата обработки АТОиП-5_2017-08-25 08:29:14': 0.14814557417402696,\n",
       " 'Nк_0.025': 0.09361583891515303,\n",
       " 'Cн': 0.0752947244457643,\n",
       " '№ Отжига_306': 0.0736050474527678,\n",
       " 'Партия АНО ПДС_580802': 0.0612614156226333,\n",
       " 'Значение CO в SF1 (MP3)': 0.05406852096641612,\n",
       " '№ Стенда_1': 0.04297171857621216,\n",
       " 'Температура полосы на левой моталке (проход 5)': 0.03904982336426178,\n",
       " '№ партии': 0.03291797933954711,\n",
       " 'Ссреднее': 0.03024912116161335,\n",
       " '№ Колпака_6': 0.029222265766443455,\n",
       " 'Содержание H2 в SF1 (MP4)': 0.023831959395641217,\n",
       " 'Содержание H2 в SF1 (MP3)': 0.022884169685379097,\n",
       " 'Толщина': 0.022010353492259976,\n",
       " 'Дата начала обработки_2017-09-14 21:10:05': 0.01541633709052701,\n",
       " 'Температура в SF3 зона 2': 0.013848725395054893,\n",
       " 'cold2_len': 0.013087185302159854,\n",
       " 'Weekday2_3': 0.012583522772594297,\n",
       " 'cold4_len': 0.011860392051124696,\n",
       " 'Точка росы в SF1 (MP3)': 0.011810850924553291}"
      ]
     },
     "execution_count": 448,
     "metadata": {},
     "output_type": "execute_result"
    }
   ],
   "source": [
    "most_common(mr)"
   ]
  },
  {
   "cell_type": "code",
   "execution_count": null,
   "metadata": {},
   "outputs": [],
   "source": [
    "mr.feature_importances_"
   ]
  },
  {
   "cell_type": "code",
   "execution_count": 439,
   "metadata": {},
   "outputs": [],
   "source": [
    "cnames = M1.columns[rfecv.get_support()]"
   ]
  },
  {
   "cell_type": "code",
   "execution_count": 435,
   "metadata": {},
   "outputs": [
    {
     "data": {
      "text/plain": [
       "(48503, 371)"
      ]
     },
     "execution_count": 435,
     "metadata": {},
     "output_type": "execute_result"
    }
   ],
   "source": [
    "rfecv.inverse_transform(rfecv.transform(M1))"
   ]
  },
  {
   "cell_type": "code",
   "execution_count": 446,
   "metadata": {},
   "outputs": [
    {
     "data": {
      "text/plain": [
       "<matplotlib.axes._subplots.AxesSubplot at 0x1a1978c9b0>"
      ]
     },
     "execution_count": 446,
     "metadata": {},
     "output_type": "execute_result"
    },
    {
     "data": {
      "image/png": "[encoded data removed]",
      "text/plain": [
       "<Figure size 432x288 with 1 Axes>"
      ]
     },
     "metadata": {
      "needs_background": "light"
     },
     "output_type": "display_data"
    }
   ],
   "source": [
    "# old\n",
    "xgb_importance(td2, show_values=False, height=1)"
   ]
  },
  {
   "cell_type": "code",
   "execution_count": 443,
   "metadata": {},
   "outputs": [
    {
     "data": {
      "text/plain": [
       "<matplotlib.axes._subplots.AxesSubplot at 0x1a203b4400>"
      ]
     },
     "execution_count": 443,
     "metadata": {},
     "output_type": "execute_result"
    },
    {
     "data": {
      "image/png": "[encoded data removed]",
      "text/plain": [
       "<Figure size 432x288 with 1 Axes>"
      ]
     },
     "metadata": {
      "needs_background": "light"
     },
     "output_type": "display_data"
    }
   ],
   "source": [
    "#after selection\n",
    "xgb_importance(td2, show_values=False, height=1)"
   ]
  },
  {
   "cell_type": "markdown",
   "metadata": {},
   "source": [
    "#### Also, RFECV"
   ]
  },
  {
   "cell_type": "code",
   "execution_count": 15,
   "metadata": {},
   "outputs": [
    {
     "data": {
      "text/plain": [
       "RFECV(cv=sklearn.cross_validation.KFold(n=48503, n_folds=4, shuffle=True, random_state=None),\n",
       "   estimator=LinearRegression(copy_X=True, fit_intercept=True, n_jobs=4, normalize=False),\n",
       "   n_jobs=4, scoring='r2', step=5, verbose=0)"
      ]
     },
     "execution_count": 15,
     "metadata": {},
     "output_type": "execute_result"
    }
   ],
   "source": [
    "skb = LinearRegression(n_jobs=4)\n",
    "kfold = KFold(M1.shape[0], n_folds=4, shuffle=True)\n",
    "rfecv = RFECV(skb, step=5, cv=kfold, scoring='r2', n_jobs=4)\n",
    "rfecv.fit(M1, y1)"
   ]
  },
  {
   "cell_type": "code",
   "execution_count": 16,
   "metadata": {},
   "outputs": [
    {
     "data": {
      "text/plain": [
       "RFECV(cv=sklearn.cross_validation.KFold(n=48503, n_folds=4, shuffle=True, random_state=None),\n",
       "   estimator=XGBRegressor(base_score=0.5, booster='gbtree', colsample_bylevel=1,\n",
       "       colsample_bytree=1, gamma=0, learning_rate=0.1, max_delta_step=0,\n",
       "       max_depth=10, min_child_weight=1, missing=None, n_estimators=100,\n",
       "       n_jobs=1, nthread=None, objective='reg:linear', random_state=0,\n",
       "       reg_alpha=0, reg_lambda=1, scale_pos_weight=1, seed=None,\n",
       "       silent=True, subsample=1),\n",
       "   n_jobs=4, scoring='r2', step=5, verbose=0)"
      ]
     },
     "execution_count": 16,
     "metadata": {},
     "output_type": "execute_result"
    }
   ],
   "source": [
    "skb = XGBRegressor(max_depth=10)\n",
    "kfold = KFold(M1.shape[0], n_folds=4, shuffle=True)\n",
    "rfecv_xgb = RFECV(skb, step=5, cv=kfold, scoring='r2', n_jobs=4)\n",
    "rfecv_xgb.fit(M1, y1)"
   ]
  },
  {
   "cell_type": "code",
   "execution_count": null,
   "metadata": {},
   "outputs": [],
   "source": []
  },
  {
   "cell_type": "code",
   "execution_count": 24,
   "metadata": {},
   "outputs": [
    {
     "data": {
      "text/plain": [
       "Index(['№ партии', 'Длина, м', 'Тренд температуры за 5-й кл. (M12-02)',\n",
       "       'Тренд толщины за 12-й кл.',\n",
       "       'Тренд температуры конца прокатки (М12-02)',\n",
       "       'Тренд температуры смотки (M12-02)', 'hot_len',\n",
       "       'Температура полосы в зоне 4', 'Температура полосы в зоне 7',\n",
       "       'Температура полосы в зоне 4B  АН',\n",
       "       ...\n",
       "       'Дата начала обработки_2017-09-12 22:46:34',\n",
       "       'Дата начала обработки_2017-09-13 15:07:58',\n",
       "       'Дата начала обработки_2017-09-13 15:08:01',\n",
       "       'Дата начала обработки_2017-09-13 15:08:26',\n",
       "       'Дата начала обработки_2017-09-14 14:54:31',\n",
       "       'Дата начала обработки_2017-09-14 21:10:05',\n",
       "       'Дата начала обработки_2017-09-14 21:10:15', 'Weekday2_3', 'Weekday2_4',\n",
       "       'Nн_0.025'],\n",
       "      dtype='object', length=111)"
      ]
     },
     "execution_count": 24,
     "metadata": {},
     "output_type": "execute_result"
    }
   ],
   "source": [
    "M1.columns[rfecv_xgb.get_support()]"
   ]
  },
  {
   "cell_type": "code",
   "execution_count": 34,
   "metadata": {},
   "outputs": [
    {
     "data": {
      "text/plain": [
       "(array([2.0000e+00, 0.0000e+00, 0.0000e+00, 0.0000e+00, 0.0000e+00,\n",
       "        2.0000e+00, 0.0000e+00, 0.0000e+00, 1.0000e+00, 6.0000e+00,\n",
       "        0.0000e+00, 0.0000e+00, 0.0000e+00, 0.0000e+00, 3.0000e+00,\n",
       "        0.0000e+00, 0.0000e+00, 1.3000e+01, 1.0000e+00, 6.0000e+00,\n",
       "        4.0000e+00, 6.6000e+01, 6.0000e+00, 0.0000e+00, 4.0000e+00,\n",
       "        0.0000e+00, 0.0000e+00, 5.0000e+00, 4.0000e+00, 2.0000e+00,\n",
       "        3.0000e+00, 1.2000e+01, 1.4300e+03, 1.0600e+03, 6.8000e+01,\n",
       "        4.5710e+03, 4.0723e+04, 4.3200e+02, 1.6000e+01, 4.0000e+00,\n",
       "        8.0000e+00, 0.0000e+00, 2.0000e+00, 1.8000e+01, 2.0000e+00,\n",
       "        6.0000e+00, 4.0000e+00, 1.4000e+01, 4.0000e+00, 1.0000e+00]),\n",
       " array([0.08  , 0.0857, 0.0914, 0.0971, 0.1028, 0.1085, 0.1142, 0.1199,\n",
       "        0.1256, 0.1313, 0.137 , 0.1427, 0.1484, 0.1541, 0.1598, 0.1655,\n",
       "        0.1712, 0.1769, 0.1826, 0.1883, 0.194 , 0.1997, 0.2054, 0.2111,\n",
       "        0.2168, 0.2225, 0.2282, 0.2339, 0.2396, 0.2453, 0.251 , 0.2567,\n",
       "        0.2624, 0.2681, 0.2738, 0.2795, 0.2852, 0.2909, 0.2966, 0.3023,\n",
       "        0.308 , 0.3137, 0.3194, 0.3251, 0.3308, 0.3365, 0.3422, 0.3479,\n",
       "        0.3536, 0.3593, 0.365 ]),\n",
       " <a list of 50 Patch objects>)"
      ]
     },
     "execution_count": 34,
     "metadata": {},
     "output_type": "execute_result"
    },
    {
     "data": {
      "image/png": "[encoded data removed]",
      "text/plain": [
       "<Figure size 432x288 with 1 Axes>"
      ]
     },
     "metadata": {
      "needs_background": "light"
     },
     "output_type": "display_data"
    }
   ],
   "source": [
    "plt.hist(M1['Толщина'], bins=50)"
   ]
  },
  {
   "cell_type": "code",
   "execution_count": 33,
   "metadata": {},
   "outputs": [
    {
     "data": {
      "text/plain": [
       "(array([4.0000e+00, 2.0000e+00, 4.0000e+00, 1.0000e+00, 3.0000e+00,\n",
       "        2.0000e+00, 3.0000e+00, 3.0000e+00, 9.8000e+01, 8.3000e+01,\n",
       "        7.3000e+01, 8.0000e+01, 7.7000e+01, 7.8000e+01, 8.1000e+01,\n",
       "        7.7000e+01, 2.7400e+02, 7.3000e+01, 8.2000e+01, 9.0000e+01,\n",
       "        6.5000e+01, 8.4000e+01, 1.0400e+02, 6.4000e+01, 1.9000e+03,\n",
       "        3.6600e+02, 3.2100e+02, 3.6300e+02, 3.5100e+02, 3.5700e+02,\n",
       "        3.2800e+02, 3.7500e+02, 2.9600e+02, 2.3740e+03, 3.7200e+02,\n",
       "        4.4700e+02, 4.2000e+02, 4.6400e+02, 4.2200e+02, 4.4800e+02,\n",
       "        4.2700e+02, 5.1680e+03, 9.9700e+02, 1.0260e+03, 1.0210e+03,\n",
       "        1.0480e+03, 1.0580e+03, 1.0590e+03, 1.0160e+03, 1.2232e+04,\n",
       "        1.0940e+03, 1.1480e+03, 1.0730e+03, 1.1240e+03, 1.1490e+03,\n",
       "        1.0880e+03, 1.1180e+03, 1.1520e+03, 2.2320e+03, 7.3000e+01,\n",
       "        6.4000e+01, 7.5000e+01, 7.5000e+01, 6.5000e+01, 7.0000e+01,\n",
       "        7.6000e+01, 2.1900e+02, 1.5000e+01, 1.2000e+01, 1.8000e+01,\n",
       "        1.3000e+01, 1.6000e+01, 1.5000e+01, 1.3000e+01, 1.4000e+01,\n",
       "        8.3000e+01, 5.0000e+00, 6.0000e+00, 8.0000e+00, 9.0000e+00,\n",
       "        7.0000e+00, 6.0000e+00, 9.0000e+00, 8.0000e+00, 6.0000e+00,\n",
       "        7.0000e+00, 5.0000e+00, 9.0000e+00, 5.0000e+00, 5.0000e+00,\n",
       "        1.0000e+01, 8.0000e+01, 8.0000e+00, 8.0000e+00, 6.0000e+00,\n",
       "        7.0000e+00, 7.0000e+00, 8.0000e+00, 9.0000e+00, 1.0000e+01]),\n",
       " array([2.24043419, 2.24162604, 2.24281788, 2.24400973, 2.24520157,\n",
       "        2.24639342, 2.24758527, 2.24877711, 2.24996896, 2.2511608 ,\n",
       "        2.25235265, 2.25354449, 2.25473634, 2.25592818, 2.25712003,\n",
       "        2.25831188, 2.25950372, 2.26069557, 2.26188741, 2.26307926,\n",
       "        2.2642711 , 2.26546295, 2.26665479, 2.26784664, 2.26903849,\n",
       "        2.27023033, 2.27142218, 2.27261402, 2.27380587, 2.27499771,\n",
       "        2.27618956, 2.2773814 , 2.27857325, 2.2797651 , 2.28095694,\n",
       "        2.28214879, 2.28334063, 2.28453248, 2.28572432, 2.28691617,\n",
       "        2.28810801, 2.28929986, 2.29049171, 2.29168355, 2.2928754 ,\n",
       "        2.29406724, 2.29525909, 2.29645093, 2.29764278, 2.29883462,\n",
       "        2.30002647, 2.30121832, 2.30241016, 2.30360201, 2.30479385,\n",
       "        2.3059857 , 2.30717754, 2.30836939, 2.30956123, 2.31075308,\n",
       "        2.31194493, 2.31313677, 2.31432862, 2.31552046, 2.31671231,\n",
       "        2.31790415, 2.319096  , 2.32028784, 2.32147969, 2.32267154,\n",
       "        2.32386338, 2.32505523, 2.32624707, 2.32743892, 2.32863076,\n",
       "        2.32982261, 2.33101445, 2.3322063 , 2.33339815, 2.33458999,\n",
       "        2.33578184, 2.33697368, 2.33816553, 2.33935737, 2.34054922,\n",
       "        2.34174106, 2.34293291, 2.34412476, 2.3453166 , 2.34650845,\n",
       "        2.34770029, 2.34889214, 2.35008398, 2.35127583, 2.35246767,\n",
       "        2.35365952, 2.35485137, 2.35604321, 2.35723506, 2.3584269 ,\n",
       "        2.35961875]),\n",
       " <a list of 100 Patch objects>)"
      ]
     },
     "execution_count": 33,
     "metadata": {},
     "output_type": "execute_result"
    },
    {
     "data": {
      "image/png": "[encoded data removed]",
      "text/plain": [
       "<Figure size 432x288 with 1 Axes>"
      ]
     },
     "metadata": {
      "needs_background": "light"
     },
     "output_type": "display_data"
    }
   ],
   "source": [
    "plt.hist(M1['Тренд толщины за 12-й кл.'], bins=100)"
   ]
  },
  {
   "cell_type": "code",
   "execution_count": 40,
   "metadata": {},
   "outputs": [
    {
     "name": "stdout",
     "output_type": "stream",
     "text": [
      "68\n"
     ]
    }
   ],
   "source": [
    "for n, i in enumerate(list(M1.columns)):\n",
    "    if i == 'Толщина':\n",
    "        print(n)"
   ]
  },
  {
   "cell_type": "code",
   "execution_count": 27,
   "metadata": {
    "scrolled": true
   },
   "outputs": [
    {
     "data": {
      "text/plain": [
       "Index(['№ партии', 'Длина, м', 'Тренд температуры за 5-й кл. (M12-02)',\n",
       "       'Тренд толщины за 12-й кл.',\n",
       "       'Тренд температуры конца прокатки (М12-02)',\n",
       "       'Тренд температуры смотки (M12-02)', 'hot_len',\n",
       "       'Температура полосы в зоне 4', 'Температура полосы в зоне 7',\n",
       "       'Температура полосы в зоне 4B  АН',\n",
       "       ...\n",
       "       'Дата начала обработки_2017-09-12 22:46:34',\n",
       "       'Дата начала обработки_2017-09-13 15:07:58',\n",
       "       'Дата начала обработки_2017-09-13 15:08:01',\n",
       "       'Дата начала обработки_2017-09-13 15:08:26',\n",
       "       'Дата начала обработки_2017-09-14 14:54:31',\n",
       "       'Дата начала обработки_2017-09-14 21:10:05',\n",
       "       'Дата начала обработки_2017-09-14 21:10:15', 'Weekday2_3', 'Weekday2_4',\n",
       "       'Nн_0.025'],\n",
       "      dtype='object', length=111)"
      ]
     },
     "execution_count": 27,
     "metadata": {},
     "output_type": "execute_result"
    }
   ],
   "source": [
    "M1.columns[rfecv_xgb.get_support()]"
   ]
  },
  {
   "cell_type": "code",
   "execution_count": 21,
   "metadata": {},
   "outputs": [
    {
     "data": {
      "text/plain": [
       "<matplotlib.axes._subplots.AxesSubplot at 0x1a1db67b70>"
      ]
     },
     "execution_count": 21,
     "metadata": {},
     "output_type": "execute_result"
    },
    {
     "data": {
      "image/png": "[encoded data removed]",
      "text/plain": [
       "<Figure size 432x288 with 1 Axes>"
      ]
     },
     "metadata": {
      "needs_background": "light"
     },
     "output_type": "display_data"
    }
   ],
   "source": [
    "xgb_importance(rfecv_xgb.estimator_, max_num_features=20, height=1)"
   ]
  },
  {
   "cell_type": "code",
   "execution_count": 36,
   "metadata": {},
   "outputs": [],
   "source": [
    "pickle.dump(rfecv_xgb, open('xgb_rfecv', 'wb'))"
   ]
  },
  {
   "cell_type": "code",
   "execution_count": null,
   "metadata": {},
   "outputs": [],
   "source": [
    "skb = LGBMRegressor()\n",
    "kfold = KFold(M1.shape[0], n_folds=4, shuffle=True)\n",
    "rfecv_lgb = RFECV(skb, step=5, cv=kfold, scoring='r2', n_jobs=4)\n",
    "rfecv_lgb.fit(M1, y1)"
   ]
  },
  {
   "cell_type": "code",
   "execution_count": 422,
   "metadata": {},
   "outputs": [
    {
     "data": {
      "text/plain": [
       "(48503, 371)"
      ]
     },
     "execution_count": 422,
     "metadata": {},
     "output_type": "execute_result"
    }
   ],
   "source": [
    "M1.shape"
   ]
  },
  {
   "cell_type": "code",
   "execution_count": 426,
   "metadata": {
    "scrolled": true
   },
   "outputs": [
    {
     "data": {
      "text/plain": [
       "[<matplotlib.lines.Line2D at 0x1a16df1518>]"
      ]
     },
     "execution_count": 426,
     "metadata": {},
     "output_type": "execute_result"
    },
    {
     "data": {
      "image/png": "[encoded data removed]",
      "text/plain": [
       "<Figure size 432x288 with 1 Axes>"
      ]
     },
     "metadata": {
      "needs_background": "light"
     },
     "output_type": "display_data"
    }
   ],
   "source": [
    "plt.plot(rfecv.grid_scores_)"
   ]
  },
  {
   "cell_type": "code",
   "execution_count": null,
   "metadata": {},
   "outputs": [],
   "source": []
  },
  {
   "cell_type": "code",
   "execution_count": null,
   "metadata": {},
   "outputs": [],
   "source": []
  },
  {
   "cell_type": "code",
   "execution_count": 363,
   "metadata": {},
   "outputs": [
    {
     "name": "stdout",
     "output_type": "stream",
     "text": [
      "Cross-val-score, accuracy: 0.8773\n",
      "Cross-val-score, f1_score: 0.9166\n",
      "Cross-val-score, precision: 0.8990\n",
      "Cross-val-score, recall: 0.9349\n",
      "Cross-val-score, roc-auc: 0.9195\n",
      "\n",
      "r2_score - исходная модель (test / train): 0.821719 / 0.820292\n",
      "--------------------\n",
      "mean_squared_error - исходная модель (test / train): 0.003354 / 0.003427\n",
      "--------------------\n",
      "\n",
      "r2_score - обработанная модель (test / train): -0.000114 / 0.868696\n",
      "--------------------\n",
      "mean_squared_error - обработанная модель (test / train): 4502.915997 / 0.002611\n",
      "--------------------\n"
     ]
    }
   ],
   "source": [
    "l, lr, lr1, lr2 = evaluate(M1, y1, y19, LinearRegression(), LogisticRegression(), [r2_score, mse])"
   ]
  },
  {
   "cell_type": "code",
   "execution_count": 364,
   "metadata": {},
   "outputs": [
    {
     "name": "stdout",
     "output_type": "stream",
     "text": [
      "Cross-val-score, accuracy: 0.9953\n",
      "Cross-val-score, f1_score: 0.9967\n",
      "Cross-val-score, precision: 0.9972\n",
      "Cross-val-score, recall: 0.9963\n",
      "Cross-val-score, roc-auc: 0.9989\n",
      "\n",
      "r2_score - исходная модель (test / train): 0.982320 / 0.997678\n",
      "--------------------\n",
      "mean_squared_error - исходная модель (test / train): 0.000390 / 0.000051\n",
      "--------------------\n",
      "\n",
      "r2_score - обработанная модель (test / train): 0.980040 / 0.997988\n",
      "--------------------\n",
      "mean_squared_error - обработанная модель (test / train): 0.000443 / 0.000045\n",
      "--------------------\n"
     ]
    }
   ],
   "source": [
    "rf, rfr, rf1, rf2 = evaluate(M1, y1, y19, RandomForestRegressor(), RandomForestClassifier(), [r2_score, mse])"
   ]
  },
  {
   "cell_type": "code",
   "execution_count": 365,
   "metadata": {},
   "outputs": [
    {
     "name": "stdout",
     "output_type": "stream",
     "text": [
      "Cross-val-score, accuracy: 0.9881\n",
      "Cross-val-score, f1_score: 0.9917\n",
      "Cross-val-score, precision: 0.9918\n",
      "Cross-val-score, recall: 0.9916\n",
      "Cross-val-score, roc-auc: 0.9987\n",
      "\n",
      "r2_score - исходная модель (test / train): 0.909207 / 0.910796\n",
      "--------------------\n",
      "mean_squared_error - исходная модель (test / train): 0.001603 / 0.001592\n",
      "--------------------\n",
      "\n",
      "r2_score - обработанная модель (test / train): 0.956658 / 0.961193\n",
      "--------------------\n",
      "mean_squared_error - обработанная модель (test / train): 0.000882 / 0.000797\n",
      "--------------------\n"
     ]
    }
   ],
   "source": [
    "xg, xgr, xgr1, xgr2 = evaluate(M1, y1, y19, XGBRegressor(), XGBClassifier(),  [r2_score, mse])"
   ]
  },
  {
   "cell_type": "code",
   "execution_count": 366,
   "metadata": {},
   "outputs": [
    {
     "name": "stdout",
     "output_type": "stream",
     "text": [
      "Cross-val-score, accuracy: 0.9955\n",
      "Cross-val-score, f1_score: 0.9969\n",
      "Cross-val-score, precision: 0.9969\n",
      "Cross-val-score, recall: 0.9968\n",
      "Cross-val-score, roc-auc: 0.9998\n",
      "\n",
      "r2_score - исходная модель (test / train): 0.973351 / 0.981957\n",
      "--------------------\n",
      "mean_squared_error - исходная модель (test / train): 0.000571 / 0.000388\n",
      "--------------------\n",
      "\n",
      "r2_score - обработанная модель (test / train): 0.984276 / 0.988581\n",
      "--------------------\n",
      "mean_squared_error - обработанная модель (test / train): 0.000343 / 0.000249\n",
      "--------------------\n"
     ]
    }
   ],
   "source": [
    "lg, lgr, lg1, lg2 = evaluate(M1, y1, y19, LGBMRegressor(), LGBMClassifier(), [r2_score, mse])"
   ]
  },
  {
   "cell_type": "code",
   "execution_count": 367,
   "metadata": {},
   "outputs": [],
   "source": [
    "pickle.dump([l, lr, lr1, lr2], open('2lrlr', 'wb'))\n",
    "pickle.dump([rf, rfr, rf1, rf2], open('2rf', 'wb'))\n",
    "pickle.dump([xg, xgr, xgr1, xgr2], open('2xgb', 'wb'))\n",
    "pickle.dump([lg, lgr, lg1, lg2], open('2lgb', 'wb'))"
   ]
  },
  {
   "cell_type": "code",
   "execution_count": 374,
   "metadata": {},
   "outputs": [],
   "source": [
    "from sklearn.feature_selection import "
   ]
  },
  {
   "cell_type": "code",
   "execution_count": 8,
   "metadata": {},
   "outputs": [],
   "source": [
    "def daytime(x):\n",
    "        if x.hour >= 12 and x.hour <= 24:\n",
    "            return 'Day'\n",
    "        if x.hour > 0 and x.hour < 12:\n",
    "            return 'Night'"
   ]
  },
  {
   "cell_type": "code",
   "execution_count": 9,
   "metadata": {},
   "outputs": [],
   "source": [
    "def read_data():\n",
    "    d1 = pd.read_csv('./d1.csv')\n",
    "    d2 = pd.read_csv('./d2.csv')\n",
    "    d1 = d1.dropna()\n",
    "    d2 = d2.dropna(axis=1, thresh=5000) \n",
    "    d2.rename(columns={'P17': 'Удельные потери P17'}, inplace=True)\n",
    "    return d1, d2"
   ]
  },
  {
   "cell_type": "code",
   "execution_count": 10,
   "metadata": {},
   "outputs": [],
   "source": [
    "def preprocess(d1):\n",
    "    d1['Стенд/Отжиг/Поз.  ВТО'] = d1['Стенд/Отжиг/Поз.  ВТО'].fillna('')\n",
    "    d1 = pd.concat([d1, d1['Стенд/Отжиг/Поз.  ВТО'].apply(lambda x: pd.Series(x.split('/')), 1).rename(columns={0: 'Стенд', 1: 'Отжиг', 2: 'Поз.  ВТО'})], axis=1)\n",
    "    d1.drop(columns='Отжиг', inplace=True)\n",
    "    l = []\n",
    "    \n",
    "    for col in d1.columns:\n",
    "        l.append(len(pd.unique(d1[col])))\n",
    "    uniqness = pd.DataFrame({'name': d1.columns, 'len': l})\n",
    "    d1.drop(columns=uniqness[uniqness['len'] == 1]['name'].values, inplace=True)\n",
    "\n",
    "    d1['Daytime1'] = d1['Дата начала обработки'].apply(lambda x: daytime(pd.to_datetime(x)), 1)\n",
    "    d1['Weekday1'] = d1['Дата начала обработки'].apply(lambda x: pd.to_datetime(x).weekday(), 1)\n",
    "\n",
    "    d1['Daytime2'] = d1['Дата обработки АТОиП-5'].apply(lambda x: daytime(pd.to_datetime(x)), 1)\n",
    "    d1['Weekday2'] = d1['Дата обработки АТОиП-5'].apply(lambda x: pd.to_datetime(x).weekday(), 1)\n",
    "\n",
    "    cat_columns = list(uniqness[uniqness['len'] <= 16]['name'].values) + \\\n",
    "    ['Партия АНО ПДС', '№ партии АТОиП№5', 'Дата обработки АТОиП-5', 'Дата начала обработки', 'Daytime1', 'Weekday1', 'Daytime2', 'Weekday2']\n",
    "    cat_columns\n",
    "    \n",
    "    y = d1['Удельные потери P17']\n",
    "    X = d1.drop(columns=['Удельные потери P17'])\n",
    "    \n",
    "    M = pd.get_dummies(X, columns=list(set(cat_columns).intersection(set(d1.columns))))\n",
    "    return M, y"
   ]
  },
  {
   "cell_type": "code",
   "execution_count": 11,
   "metadata": {},
   "outputs": [],
   "source": [
    "d1, d2 = read_data()\n",
    "M1, y1 = preprocess(d1)\n",
    "M2, y2 = preprocess(d2)\n",
    "M1.drop(columns=['Стенд/Отжиг/Поз.  ВТО', 'Р17ср'], inplace=True)"
   ]
  },
  {
   "cell_type": "code",
   "execution_count": 53,
   "metadata": {},
   "outputs": [],
   "source": [
    "lr = LinearRegression()"
   ]
  },
  {
   "cell_type": "code",
   "execution_count": 12,
   "metadata": {},
   "outputs": [],
   "source": [
    "X_train, X_test, y_train, y_test = train_test_split(M1, y1, train_size=0.7)"
   ]
  },
  {
   "cell_type": "code",
   "execution_count": 13,
   "metadata": {},
   "outputs": [
    {
     "data": {
      "text/plain": [
       "LinearRegression(copy_X=True, fit_intercept=True, n_jobs=1, normalize=False)"
      ]
     },
     "execution_count": 13,
     "metadata": {},
     "output_type": "execute_result"
    }
   ],
   "source": [
    "lr.fit(X_train, y_train)"
   ]
  },
  {
   "cell_type": "code",
   "execution_count": 15,
   "metadata": {},
   "outputs": [
    {
     "data": {
      "text/plain": [
       "0.8216629681036802"
      ]
     },
     "execution_count": 15,
     "metadata": {},
     "output_type": "execute_result"
    }
   ],
   "source": [
    "r2_score(lr.predict(X_test), y_test)"
   ]
  },
  {
   "cell_type": "code",
   "execution_count": 16,
   "metadata": {},
   "outputs": [
    {
     "data": {
      "text/plain": [
       "0.003424057836996756"
      ]
     },
     "execution_count": 16,
     "metadata": {},
     "output_type": "execute_result"
    }
   ],
   "source": [
    "mse(lr.predict(X_test), y_test)"
   ]
  },
  {
   "cell_type": "code",
   "execution_count": 51,
   "metadata": {},
   "outputs": [],
   "source": [
    "from sklearn.linear_model import LogisticRegression"
   ]
  },
  {
   "cell_type": "code",
   "execution_count": 52,
   "metadata": {},
   "outputs": [],
   "source": [
    "y = pd.cut(y1, [0, 1.05, 1.26, np.inf], labels=[0, 1, 2], include_lowest=True)\n",
    "y[y==2] = 0\n",
    "X_train, X_test, y_train, y_test = train_test_split(M1, y, train_size=0.7)"
   ]
  },
  {
   "cell_type": "code",
   "execution_count": 53,
   "metadata": {},
   "outputs": [],
   "source": [
    "lr_clf = LogisticRegression()"
   ]
  },
  {
   "cell_type": "code",
   "execution_count": 54,
   "metadata": {},
   "outputs": [
    {
     "data": {
      "text/plain": [
       "LogisticRegression(C=1.0, class_weight=None, dual=False, fit_intercept=True,\n",
       "          intercept_scaling=1, max_iter=100, multi_class='ovr', n_jobs=1,\n",
       "          penalty='l2', random_state=None, solver='liblinear', tol=0.0001,\n",
       "          verbose=0, warm_start=False)"
      ]
     },
     "execution_count": 54,
     "metadata": {},
     "output_type": "execute_result"
    }
   ],
   "source": [
    "lr_clf.fit(X_train, y_train)"
   ]
  },
  {
   "cell_type": "code",
   "execution_count": 55,
   "metadata": {},
   "outputs": [
    {
     "data": {
      "text/plain": [
       "0.6925984468421414"
      ]
     },
     "execution_count": 55,
     "metadata": {},
     "output_type": "execute_result"
    }
   ],
   "source": [
    "accuracy_score(lr_clf.predict(X_test), y_test)"
   ]
  },
  {
   "cell_type": "markdown",
   "metadata": {},
   "source": [
    "### Random forest"
   ]
  },
  {
   "cell_type": "code",
   "execution_count": 33,
   "metadata": {},
   "outputs": [],
   "source": [
    "from sklearn.ensemble import RandomForestClassifier, RandomForestRegressor"
   ]
  },
  {
   "cell_type": "code",
   "execution_count": 183,
   "metadata": {},
   "outputs": [],
   "source": [
    "y = pd.cut(y1, [0, 1.05, 1.26, np.inf], labels=[0, 1, 2], include_lowest=True)\n",
    "y[y==2] = 0\n",
    "X_train, X_test, y_train, y_test = train_test_split(M1, y, train_size=0.7)"
   ]
  },
  {
   "cell_type": "code",
   "execution_count": 47,
   "metadata": {},
   "outputs": [],
   "source": [
    "rf = RandomForestClassifier(n_estimators=20,)"
   ]
  },
  {
   "cell_type": "code",
   "execution_count": 48,
   "metadata": {},
   "outputs": [
    {
     "data": {
      "text/plain": [
       "RandomForestClassifier(bootstrap=True, class_weight=None, criterion='gini',\n",
       "            max_depth=None, max_features='auto', max_leaf_nodes=None,\n",
       "            min_impurity_decrease=0.0, min_impurity_split=None,\n",
       "            min_samples_leaf=1, min_samples_split=2,\n",
       "            min_weight_fraction_leaf=0.0, n_estimators=20, n_jobs=1,\n",
       "            oob_score=False, random_state=None, verbose=0,\n",
       "            warm_start=False)"
      ]
     },
     "execution_count": 48,
     "metadata": {},
     "output_type": "execute_result"
    }
   ],
   "source": [
    "rf.fit(X_train, y_train)"
   ]
  },
  {
   "cell_type": "code",
   "execution_count": 50,
   "metadata": {},
   "outputs": [
    {
     "data": {
      "text/plain": [
       "0.9980560791705938"
      ]
     },
     "execution_count": 50,
     "metadata": {},
     "output_type": "execute_result"
    }
   ],
   "source": [
    "accuracy_score(rf.predict(X_train), y_train)"
   ]
  },
  {
   "cell_type": "code",
   "execution_count": 43,
   "metadata": {},
   "outputs": [],
   "source": [
    "l = lgb.LGBMClassifier(max_depth=20)"
   ]
  },
  {
   "cell_type": "code",
   "execution_count": 44,
   "metadata": {},
   "outputs": [
    {
     "data": {
      "text/plain": [
       "LGBMClassifier(boosting_type='gbdt', class_weight=None, colsample_bytree=1.0,\n",
       "        importance_type='split', learning_rate=0.1, max_depth=20,\n",
       "        min_child_samples=20, min_child_weight=0.001, min_split_gain=0.0,\n",
       "        n_estimators=100, n_jobs=-1, num_leaves=31, objective=None,\n",
       "        random_state=None, reg_alpha=0.0, reg_lambda=0.0, silent=True,\n",
       "        subsample=1.0, subsample_for_bin=200000, subsample_freq=0)"
      ]
     },
     "execution_count": 44,
     "metadata": {},
     "output_type": "execute_result"
    }
   ],
   "source": [
    "l.fit(X_train, y_train)"
   ]
  },
  {
   "cell_type": "code",
   "execution_count": 45,
   "metadata": {
    "scrolled": true
   },
   "outputs": [
    {
     "name": "stderr",
     "output_type": "stream",
     "text": [
      "/anaconda3/lib/python3.7/site-packages/sklearn/preprocessing/label.py:151: DeprecationWarning: The truth value of an empty array is ambiguous. Returning False, but in future this will result in an error. Use `array.size > 0` to check that an array is not empty.\n",
      "  if diff:\n"
     ]
    },
    {
     "data": {
      "text/plain": [
       "0.8789762016965127"
      ]
     },
     "execution_count": 45,
     "metadata": {},
     "output_type": "execute_result"
    }
   ],
   "source": [
    "accuracy_score(l.predict(X_train), y_train)"
   ]
  },
  {
   "cell_type": "markdown",
   "metadata": {},
   "source": [
    "### XGB"
   ]
  },
  {
   "cell_type": "code",
   "execution_count": 113,
   "metadata": {},
   "outputs": [],
   "source": [
    "from xgboost import XGBClassifier, XGBRegressor"
   ]
  },
  {
   "cell_type": "code",
   "execution_count": 114,
   "metadata": {},
   "outputs": [],
   "source": [
    "xgb = XGBClassifier(max_depth=10)"
   ]
  },
  {
   "cell_type": "code",
   "execution_count": 115,
   "metadata": {},
   "outputs": [],
   "source": [
    "y = pd.cut(y1, [0, 1.19, np.inf], include_lowest=True, labels=[0, 1])"
   ]
  },
  {
   "cell_type": "code",
   "execution_count": 116,
   "metadata": {},
   "outputs": [
    {
     "data": {
      "text/plain": [
       "XGBClassifier(base_score=0.5, booster='gbtree', colsample_bylevel=1,\n",
       "       colsample_bytree=1, gamma=0, learning_rate=0.1, max_delta_step=0,\n",
       "       max_depth=10, min_child_weight=1, missing=None, n_estimators=100,\n",
       "       n_jobs=1, nthread=None, objective='binary:logistic', random_state=0,\n",
       "       reg_alpha=0, reg_lambda=1, scale_pos_weight=1, seed=None,\n",
       "       silent=True, subsample=1)"
      ]
     },
     "execution_count": 116,
     "metadata": {},
     "output_type": "execute_result"
    }
   ],
   "source": [
    "xgb.fit(M1, y)"
   ]
  },
  {
   "cell_type": "code",
   "execution_count": 117,
   "metadata": {},
   "outputs": [
    {
     "name": "stderr",
     "output_type": "stream",
     "text": [
      "/anaconda3/lib/python3.7/site-packages/sklearn/preprocessing/label.py:151: DeprecationWarning: The truth value of an empty array is ambiguous. Returning False, but in future this will result in an error. Use `array.size > 0` to check that an array is not empty.\n",
      "  if diff:\n"
     ]
    },
    {
     "data": {
      "text/plain": [
       "0.9999742281325705"
      ]
     },
     "execution_count": 117,
     "metadata": {},
     "output_type": "execute_result"
    }
   ],
   "source": [
    "accuracy_score(xgb.predict(X_train), y_train)"
   ]
  },
  {
   "cell_type": "code",
   "execution_count": 118,
   "metadata": {
    "scrolled": true
   },
   "outputs": [
    {
     "name": "stderr",
     "output_type": "stream",
     "text": [
      "/anaconda3/lib/python3.7/site-packages/sklearn/preprocessing/label.py:151: DeprecationWarning: The truth value of an empty array is ambiguous. Returning False, but in future this will result in an error. Use `array.size > 0` to check that an array is not empty.\n",
      "  if diff:\n"
     ]
    },
    {
     "data": {
      "text/plain": [
       "0.9997938356870426"
      ]
     },
     "execution_count": 118,
     "metadata": {},
     "output_type": "execute_result"
    }
   ],
   "source": [
    "accuracy_score(xgb.predict(X_test), y_test)"
   ]
  },
  {
   "cell_type": "code",
   "execution_count": 127,
   "metadata": {},
   "outputs": [
    {
     "name": "stderr",
     "output_type": "stream",
     "text": [
      "/anaconda3/lib/python3.7/site-packages/sklearn/preprocessing/label.py:151: DeprecationWarning: The truth value of an empty array is ambiguous. Returning False, but in future this will result in an error. Use `array.size > 0` to check that an array is not empty.\n",
      "  if diff:\n"
     ]
    }
   ],
   "source": [
    "predictions = xgb.predict(M1)"
   ]
  },
  {
   "cell_type": "code",
   "execution_count": 132,
   "metadata": {},
   "outputs": [],
   "source": [
    "xgbreg_0 = XGBRegressor(max_depth=10, )"
   ]
  },
  {
   "cell_type": "code",
   "execution_count": 136,
   "metadata": {},
   "outputs": [],
   "source": [
    "X_0 = M1[predictions == 0]\n",
    "y_0 = y1[predictions == 0]\n",
    "X_1 = M1[predictions == 1]\n",
    "y_1 = y1[predictions == 1]"
   ]
  },
  {
   "cell_type": "code",
   "execution_count": 137,
   "metadata": {},
   "outputs": [],
   "source": [
    "X_train, X_test, y_train, y_test = train_test_split(X_0, y_0, train_size=0.7)"
   ]
  },
  {
   "cell_type": "code",
   "execution_count": 138,
   "metadata": {},
   "outputs": [
    {
     "data": {
      "text/plain": [
       "XGBRegressor(base_score=0.5, booster='gbtree', colsample_bylevel=1,\n",
       "       colsample_bytree=1, gamma=0, learning_rate=0.1, max_delta_step=0,\n",
       "       max_depth=10, min_child_weight=1, missing=None, n_estimators=100,\n",
       "       n_jobs=1, nthread=None, objective='reg:linear', random_state=0,\n",
       "       reg_alpha=0, reg_lambda=1, scale_pos_weight=1, seed=None,\n",
       "       silent=True, subsample=1)"
      ]
     },
     "execution_count": 138,
     "metadata": {},
     "output_type": "execute_result"
    }
   ],
   "source": [
    "xgbreg_0.fit(X_train, y_train)"
   ]
  },
  {
   "cell_type": "code",
   "execution_count": 142,
   "metadata": {},
   "outputs": [
    {
     "name": "stdout",
     "output_type": "stream",
     "text": [
      "0.9940847447078055\n",
      "0.9777507208923486\n"
     ]
    }
   ],
   "source": [
    "print(r2_score(xgbreg_0.predict(X_train), y_train))\n",
    "print(r2_score(xgbreg_0.predict(X_test), y_test))"
   ]
  },
  {
   "cell_type": "code",
   "execution_count": 146,
   "metadata": {},
   "outputs": [],
   "source": [
    "std_0 = y_0.std()"
   ]
  },
  {
   "cell_type": "code",
   "execution_count": 147,
   "metadata": {},
   "outputs": [
    {
     "name": "stdout",
     "output_type": "stream",
     "text": [
      "0.0004361535300901298\n",
      "0.0016304147415726364\n"
     ]
    }
   ],
   "source": [
    "print(mse(xgbreg_0.predict(X_train), y_train)/std_0)\n",
    "print(mse(xgbreg_0.predict(X_test), y_test)/std_0)"
   ]
  },
  {
   "cell_type": "code",
   "execution_count": 148,
   "metadata": {},
   "outputs": [],
   "source": [
    "xgbreg = XGBRegressor(max_depth=10)"
   ]
  },
  {
   "cell_type": "code",
   "execution_count": 154,
   "metadata": {},
   "outputs": [],
   "source": [
    "X_train, X_test, y_train, y_test = train_test_split(M1, y1, train_size=0.7)"
   ]
  },
  {
   "cell_type": "code",
   "execution_count": 156,
   "metadata": {},
   "outputs": [
    {
     "data": {
      "text/plain": [
       "XGBRegressor(base_score=0.5, booster='gbtree', colsample_bylevel=1,\n",
       "       colsample_bytree=1, gamma=0, learning_rate=0.1, max_delta_step=0,\n",
       "       max_depth=10, min_child_weight=1, missing=None, n_estimators=100,\n",
       "       n_jobs=1, nthread=None, objective='reg:linear', random_state=0,\n",
       "       reg_alpha=0, reg_lambda=1, scale_pos_weight=1, seed=None,\n",
       "       silent=True, subsample=1)"
      ]
     },
     "execution_count": 156,
     "metadata": {},
     "output_type": "execute_result"
    }
   ],
   "source": [
    "xgbreg.fit(X_train, y_train)"
   ]
  },
  {
   "cell_type": "code",
   "execution_count": 158,
   "metadata": {},
   "outputs": [
    {
     "data": {
      "text/plain": [
       "0.03542898247878967"
      ]
     },
     "execution_count": 158,
     "metadata": {},
     "output_type": "execute_result"
    }
   ],
   "source": [
    "mse(xgbreg.predict(X_test), y_test)/std"
   ]
  },
  {
   "cell_type": "code",
   "execution_count": 162,
   "metadata": {},
   "outputs": [
    {
     "data": {
      "text/plain": [
       "№ плавки_1717431                             -0.342994\n",
       "Азот_0.0077                                  -0.342994\n",
       "Титан_0.003                                  -0.342994\n",
       "Кремний_3.3310000000000004                   -0.342994\n",
       "Углерод_0.054000000000000006                 -0.342994\n",
       "Weekday2_5                                   -0.328720\n",
       "Nк_0.023                                     -0.311614\n",
       "Nн_0.022000000000000002                      -0.308482\n",
       "№ Стенда_139                                 -0.308081\n",
       "Стенд_139                                    -0.308081\n",
       "№ Колпака_140                                -0.308081\n",
       "№ Отжига_430                                 -0.308081\n",
       "Тренд температуры конца прокатки (М12-02)    -0.290843\n",
       "Фосфор_0.024                                 -0.274371\n",
       "Nсреднее_0.0225                              -0.268095\n",
       "Nсреднее_0.022000000000000002                -0.267017\n",
       "Партия АНО ПДС_580817                        -0.255896\n",
       "Дата обработки АТОиП-5_2017-08-26 09:15:12   -0.255896\n",
       "№ партии АТОиП№5_580817                      -0.255896\n",
       "Точка росы в RTF                             -0.248230\n",
       "Стенд_10                                     -0.245783\n",
       "№ Стенда_10                                  -0.245783\n",
       "Позиция ВТО_4                                -0.235637\n",
       "Поз.  ВТО_4                                  -0.235637\n",
       "Толщ._0.27                                   -0.234796\n",
       "Дата начала обработки_2017-09-13 14:44:15    -0.231442\n",
       "Тренд температуры за 5-й кл. (M12-02)        -0.228535\n",
       "Алюминий_0.027999999999999997                -0.213820\n",
       "Хром_0.11                                    -0.213820\n",
       "№ Отжига_323                                 -0.210753\n",
       "                                                ...   \n",
       "Дата начала обработки_2017-09-02 15:30:00     0.218662\n",
       "Дата обработки АТОиП-5_2017-08-25 12:12:24    0.218662\n",
       "№ партии АТОиП№5_580804                       0.218662\n",
       "Дата начала обработки_2017-08-30 14:40:39     0.224987\n",
       "Толщ._0.3                                     0.234796\n",
       "Nн_0.02                                       0.243868\n",
       "Nк_0.018000000000000002                       0.243868\n",
       "Nсреднее_0.019                                0.243868\n",
       "№ партии АТОиП№5_580800                       0.263994\n",
       "Ск_0.003                                      0.263994\n",
       "Партия АНО ПДС_580800                         0.263994\n",
       "Дата обработки АТОиП-5_2017-08-25 06:39:09    0.263994\n",
       "Weekday2_3                                    0.270489\n",
       "Толщина                                       0.274343\n",
       "Фосфор_0.025                                  0.274371\n",
       "Алюминий_0.03                                 0.274371\n",
       "Nк_0.025                                      0.291003\n",
       "Дата начала обработки_2017-08-29 22:20:06     0.305904\n",
       "№ Колпака_6                                   0.311508\n",
       "№ Отжига_306                                  0.311508\n",
       "№ Стенда_1                                    0.311508\n",
       "Стенд_1                                       0.311508\n",
       "Титан_0.002                                   0.342994\n",
       "Дата начала обработки_2017-08-29 22:19:57     0.343315\n",
       "Азот_0.0069                                   0.422650\n",
       "Кремний_3.333                                 0.422650\n",
       "№ плавки_1717425                              0.422650\n",
       "Дата обработки АТОиП-5_2017-08-25 08:29:14    0.461215\n",
       "№ партии АТОиП№5_580802                       0.461215\n",
       "Партия АНО ПДС_580802                         0.461215\n",
       "Length: 371, dtype: float64"
      ]
     },
     "execution_count": 162,
     "metadata": {},
     "output_type": "execute_result"
    }
   ],
   "source": [
    "M1.corrwith(y1).sort_values()"
   ]
  },
  {
   "cell_type": "markdown",
   "metadata": {},
   "source": [
    "### Peaks classification"
   ]
  },
  {
   "cell_type": "code",
   "execution_count": 134,
   "metadata": {},
   "outputs": [],
   "source": [
    "y = pd.cut(y1, [0, 1.19, np.inf], include_lowest=True, labels=[0, 1])"
   ]
  },
  {
   "cell_type": "code",
   "execution_count": 111,
   "metadata": {},
   "outputs": [],
   "source": [
    "X_train, X_test, y_train, y_test = train_test_split(M1, y, train_size=0.8)"
   ]
  },
  {
   "cell_type": "code",
   "execution_count": 83,
   "metadata": {},
   "outputs": [
    {
     "data": {
      "text/plain": [
       "LGBMClassifier(boosting_type='gbdt', class_weight=None, colsample_bytree=1.0,\n",
       "        importance_type='split', learning_rate=0.1, max_depth=-1,\n",
       "        min_child_samples=20, min_child_weight=0.001, min_split_gain=0.0,\n",
       "        n_estimators=100, n_jobs=-1, num_leaves=31, objective=None,\n",
       "        random_state=None, reg_alpha=0.0, reg_lambda=0.0, silent=True,\n",
       "        subsample=1.0, subsample_for_bin=200000, subsample_freq=0)"
      ]
     },
     "execution_count": 83,
     "metadata": {},
     "output_type": "execute_result"
    }
   ],
   "source": [
    "pclass = lgb.LGBMClassifier()\n",
    "pclass.fit(X_train, y_train)"
   ]
  },
  {
   "cell_type": "code",
   "execution_count": 84,
   "metadata": {},
   "outputs": [
    {
     "name": "stderr",
     "output_type": "stream",
     "text": [
      "/anaconda3/lib/python3.7/site-packages/sklearn/preprocessing/label.py:151: DeprecationWarning: The truth value of an empty array is ambiguous. Returning False, but in future this will result in an error. Use `array.size > 0` to check that an array is not empty.\n",
      "  if diff:\n"
     ]
    }
   ],
   "source": [
    "predictions = pclass.predict(M1)"
   ]
  },
  {
   "cell_type": "code",
   "execution_count": 85,
   "metadata": {},
   "outputs": [
    {
     "data": {
      "text/plain": [
       "0.9983300002061728"
      ]
     },
     "execution_count": 85,
     "metadata": {},
     "output_type": "execute_result"
    }
   ],
   "source": [
    "accuracy_score(predictions, y)"
   ]
  },
  {
   "cell_type": "code",
   "execution_count": 52,
   "metadata": {},
   "outputs": [],
   "source": [
    "import seaborn as sns"
   ]
  },
  {
   "cell_type": "code",
   "execution_count": 141,
   "metadata": {},
   "outputs": [
    {
     "data": {
      "text/plain": [
       "Text(0, 0.5, 'Количество попаданий целевой переменной \\n в определенный интервал')"
      ]
     },
     "execution_count": 141,
     "metadata": {},
     "output_type": "execute_result"
    },
    {
     "data": {
      "image/png": "[encoded data removed]",
      "text/plain": [
       "<Figure size 360x360 with 1 Axes>"
      ]
     },
     "metadata": {
      "needs_background": "light"
     },
     "output_type": "display_data"
    }
   ],
   "source": [
    "plt.figure(figsize=(5, 5))\n",
    "plt.title('Распределение толщины')\n",
    "sns.distplot(M1[y == 0]['Толщина'], bins=10)\n",
    "sns.distplot(M1[y == 1]['Толщина'], bins=10)\n",
    "plt.ylabel('Количество попаданий целевой переменной \\n в определенный интервал')"
   ]
  },
  {
   "cell_type": "code",
   "execution_count": 74,
   "metadata": {},
   "outputs": [],
   "source": [
    "new = pd.concat((M1, pd.Series(y1, name='Потери'), y), axis=1)"
   ]
  },
  {
   "cell_type": "code",
   "execution_count": 79,
   "metadata": {},
   "outputs": [
    {
     "data": {
      "text/plain": [
       "<seaborn.axisgrid.PairGrid at 0x1a1c9df2b0>"
      ]
     },
     "execution_count": 79,
     "metadata": {},
     "output_type": "execute_result"
    },
    {
     "data": {
      "image/png": "[encoded data removed]",
      "text/plain": [
       "<Figure size 482.125x360 with 6 Axes>"
      ]
     },
     "metadata": {
      "needs_background": "light"
     },
     "output_type": "display_data"
    }
   ],
   "source": [
    "sns.pairplot(new, hue='Удельные потери P17', vars=['Толщина', 'Потери'], )"
   ]
  },
  {
   "cell_type": "code",
   "execution_count": 86,
   "metadata": {},
   "outputs": [],
   "source": [
    "first = M1[predictions==0]\n",
    "y11 = y1[predictions==0]\n",
    "second = M1[predictions==1]\n",
    "y22 = y1[predictions==1]"
   ]
  },
  {
   "cell_type": "code",
   "execution_count": 95,
   "metadata": {},
   "outputs": [],
   "source": [
    "std = M1[y == 0]['Толщина'].std()"
   ]
  },
  {
   "cell_type": "code",
   "execution_count": 97,
   "metadata": {},
   "outputs": [
    {
     "name": "stdout",
     "output_type": "stream",
     "text": [
      "0.03957280764191099\n"
     ]
    }
   ],
   "source": [
    "reg = lgb.LGBMRegressor()\n",
    "X_train, X_test, y_train, y_test = train_test_split(first, y11, train_size=0.7 )\n",
    "reg.fit(X_train, y_train)\n",
    "r2_score(reg.predict(X_test), y_test)\n",
    "print(mse(reg.predict(X_test), y_test)/std)"
   ]
  },
  {
   "cell_type": "code",
   "execution_count": 14,
   "metadata": {},
   "outputs": [
    {
     "data": {
      "text/plain": [
       "<matplotlib.axes._subplots.AxesSubplot at 0x1a2b4a2e80>"
      ]
     },
     "execution_count": 14,
     "metadata": {},
     "output_type": "execute_result"
    },
    {
     "data": {
      "image/png": "[encoded data removed]",
      "text/plain": [
       "<Figure size 432x288 with 1 Axes>"
      ]
     },
     "metadata": {
      "needs_background": "light"
     },
     "output_type": "display_data"
    }
   ],
   "source": [
    "lgb.plot_importance(reg, max_num_features=20, height=1)"
   ]
  },
  {
   "cell_type": "code",
   "execution_count": 98,
   "metadata": {},
   "outputs": [
    {
     "name": "stdout",
     "output_type": "stream",
     "text": [
      "0.03302031910716914\n"
     ]
    }
   ],
   "source": [
    "reg = lgb.LGBMRegressor()\n",
    "X_train, X_test, y_train, y_test = train_test_split(second, y22, train_size=0.7 )\n",
    "reg.fit(X_train, y_train)\n",
    "r2_score(reg.predict(X_test), y_test)\n",
    "print(mse(reg.predict(X_test), y_test)/std)"
   ]
  },
  {
   "cell_type": "code",
   "execution_count": 20,
   "metadata": {},
   "outputs": [
    {
     "data": {
      "text/plain": [
       "<matplotlib.axes._subplots.AxesSubplot at 0x1a1b124da0>"
      ]
     },
     "execution_count": 20,
     "metadata": {},
     "output_type": "execute_result"
    },
    {
     "data": {
      "image/png": "[encoded data removed]",
      "text/plain": [
       "<Figure size 432x288 with 1 Axes>"
      ]
     },
     "metadata": {
      "needs_background": "light"
     },
     "output_type": "display_data"
    }
   ],
   "source": [
    "lgb.plot_importance(pclass, max_num_features=20, height=2)"
   ]
  },
  {
   "cell_type": "markdown",
   "metadata": {},
   "source": [
    "### Whole regression "
   ]
  },
  {
   "cell_type": "code",
   "execution_count": 42,
   "metadata": {},
   "outputs": [],
   "source": [
    "X_train, X_test, y_train, y_test = train_test_split(M1, y1, train_size=0.7)"
   ]
  },
  {
   "cell_type": "code",
   "execution_count": 43,
   "metadata": {},
   "outputs": [],
   "source": [
    "whole_reg = lgb.LGBMRegressor()"
   ]
  },
  {
   "cell_type": "code",
   "execution_count": 44,
   "metadata": {},
   "outputs": [
    {
     "data": {
      "text/plain": [
       "LGBMRegressor(boosting_type='gbdt', class_weight=None, colsample_bytree=1.0,\n",
       "       importance_type='split', learning_rate=0.1, max_depth=-1,\n",
       "       min_child_samples=20, min_child_weight=0.001, min_split_gain=0.0,\n",
       "       n_estimators=100, n_jobs=-1, num_leaves=31, objective=None,\n",
       "       random_state=None, reg_alpha=0.0, reg_lambda=0.0, silent=True,\n",
       "       subsample=1.0, subsample_for_bin=200000, subsample_freq=0)"
      ]
     },
     "execution_count": 44,
     "metadata": {},
     "output_type": "execute_result"
    }
   ],
   "source": [
    "whole_reg.fit(X_train, y_train)"
   ]
  },
  {
   "cell_type": "code",
   "execution_count": 45,
   "metadata": {
    "scrolled": true
   },
   "outputs": [
    {
     "data": {
      "text/plain": [
       "0.9768090872674671"
      ]
     },
     "execution_count": 45,
     "metadata": {},
     "output_type": "execute_result"
    }
   ],
   "source": [
    "r2_score(whole_reg.predict(X_test), y_test)"
   ]
  },
  {
   "cell_type": "code",
   "execution_count": 50,
   "metadata": {},
   "outputs": [
    {
     "data": {
      "text/plain": [
       "<matplotlib.axes._subplots.AxesSubplot at 0x1a1890a8d0>"
      ]
     },
     "execution_count": 50,
     "metadata": {},
     "output_type": "execute_result"
    },
    {
     "data": {
      "image/png": "[encoded data removed]",
      "text/plain": [
       "<Figure size 432x288 with 1 Axes>"
      ]
     },
     "metadata": {
      "needs_background": "light"
     },
     "output_type": "display_data"
    }
   ],
   "source": [
    "lgb_importance(whole_reg, max_num_features=20, height=1)"
   ]
  },
  {
   "cell_type": "code",
   "execution_count": 47,
   "metadata": {},
   "outputs": [
    {
     "data": {
      "text/plain": [
       "0.0005051494445293427"
      ]
     },
     "execution_count": 47,
     "metadata": {},
     "output_type": "execute_result"
    }
   ],
   "source": [
    "mse(whole_reg.predict(X_test), y_test)"
   ]
  },
  {
   "cell_type": "markdown",
   "metadata": {},
   "source": [
    "Only width"
   ]
  },
  {
   "cell_type": "code",
   "execution_count": 21,
   "metadata": {},
   "outputs": [],
   "source": [
    "fat = lgb.LGBMClassifier()"
   ]
  },
  {
   "cell_type": "code",
   "execution_count": 29,
   "metadata": {},
   "outputs": [
    {
     "data": {
      "text/plain": [
       "LGBMClassifier(boosting_type='gbdt', class_weight=None, colsample_bytree=1.0,\n",
       "        importance_type='split', learning_rate=0.1, max_depth=-1,\n",
       "        min_child_samples=20, min_child_weight=0.001, min_split_gain=0.0,\n",
       "        n_estimators=100, n_jobs=-1, num_leaves=31, objective=None,\n",
       "        random_state=None, reg_alpha=0.0, reg_lambda=0.0, silent=True,\n",
       "        subsample=1.0, subsample_for_bin=200000, subsample_freq=0)"
      ]
     },
     "execution_count": 29,
     "metadata": {},
     "output_type": "execute_result"
    }
   ],
   "source": [
    "X_train, X_test, y_train, y_test = train_test_split(M1, y, train_size=0.8)\n",
    "fat.fit(np.array(X_train['Толщина']).reshape(-1, 1), y_train)"
   ]
  },
  {
   "cell_type": "code",
   "execution_count": 30,
   "metadata": {},
   "outputs": [
    {
     "name": "stderr",
     "output_type": "stream",
     "text": [
      "/anaconda3/lib/python3.7/site-packages/sklearn/preprocessing/label.py:151: DeprecationWarning: The truth value of an empty array is ambiguous. Returning False, but in future this will result in an error. Use `array.size > 0` to check that an array is not empty.\n",
      "  if diff:\n"
     ]
    },
    {
     "data": {
      "text/plain": [
       "0.8484692299762912"
      ]
     },
     "execution_count": 30,
     "metadata": {},
     "output_type": "execute_result"
    }
   ],
   "source": [
    "accuracy_score(fat.predict(np.array(X_test['Толщина']).reshape(-1, 1)), y_test)"
   ]
  },
  {
   "cell_type": "markdown",
   "metadata": {},
   "source": [
    "### Regression between peaks"
   ]
  },
  {
   "cell_type": "code",
   "execution_count": 144,
   "metadata": {},
   "outputs": [],
   "source": [
    "below = M1[y1 <= 1.19]\n",
    "y_below = y1[y1 <= 1.19]\n",
    "under = M1[y1 > 1.19]\n",
    "y_under = y1[y1 > 1.19]"
   ]
  },
  {
   "cell_type": "code",
   "execution_count": 146,
   "metadata": {},
   "outputs": [],
   "source": [
    "X_train, X_test, y_train, y_test = train_test_split(below, y_below, train_size=0.8)\n",
    "rbelow = lgb.LGBMRegressor()\n",
    "rbelow.fit(X_train, y_train)"
   ]
  },
  {
   "cell_type": "code",
   "execution_count": 149,
   "metadata": {},
   "outputs": [
    {
     "data": {
      "text/plain": [
       "0.9467821578041674"
      ]
     },
     "execution_count": 149,
     "metadata": {},
     "output_type": "execute_result"
    }
   ],
   "source": [
    "r2_score(rbelow.predict(X_test), y_test)"
   ]
  },
  {
   "cell_type": "code",
   "execution_count": 150,
   "metadata": {},
   "outputs": [
    {
     "data": {
      "text/plain": [
       "<matplotlib.axes._subplots.AxesSubplot at 0x1a0f98e3c8>"
      ]
     },
     "execution_count": 150,
     "metadata": {},
     "output_type": "execute_result"
    },
    {
     "data": {
      "image/png": "[encoded data removed]",
      "text/plain": [
       "<Figure size 432x288 with 1 Axes>"
      ]
     },
     "metadata": {
      "needs_background": "light"
     },
     "output_type": "display_data"
    }
   ],
   "source": [
    "lgb.plot_importance(rbelow, max_num_features=20, height=2)"
   ]
  },
  {
   "cell_type": "code",
   "execution_count": 151,
   "metadata": {},
   "outputs": [],
   "source": [
    "X_train, X_test, y_train, y_test = train_test_split(under, y_under, train_size=0.8)"
   ]
  },
  {
   "cell_type": "code",
   "execution_count": 153,
   "metadata": {},
   "outputs": [
    {
     "data": {
      "text/plain": [
       "LGBMRegressor(boosting_type='gbdt', class_weight=None, colsample_bytree=1.0,\n",
       "       importance_type='split', learning_rate=0.1, max_depth=-1,\n",
       "       min_child_samples=20, min_child_weight=0.001, min_split_gain=0.0,\n",
       "       n_estimators=100, n_jobs=-1, num_leaves=31, objective=None,\n",
       "       random_state=None, reg_alpha=0.0, reg_lambda=0.0, silent=True,\n",
       "       subsample=1.0, subsample_for_bin=200000, subsample_freq=0)"
      ]
     },
     "execution_count": 153,
     "metadata": {},
     "output_type": "execute_result"
    }
   ],
   "source": [
    "runder = lgb.LGBMRegressor()\n",
    "runder.fit(X_train, y_train)"
   ]
  },
  {
   "cell_type": "code",
   "execution_count": 155,
   "metadata": {},
   "outputs": [
    {
     "data": {
      "text/plain": [
       "0.9729102176469872"
      ]
     },
     "execution_count": 155,
     "metadata": {},
     "output_type": "execute_result"
    }
   ],
   "source": [
    "r2_score(runder.predict(X_test), y_test)"
   ]
  },
  {
   "cell_type": "code",
   "execution_count": 156,
   "metadata": {},
   "outputs": [
    {
     "data": {
      "text/plain": [
       "<matplotlib.axes._subplots.AxesSubplot at 0x1a0f6a6748>"
      ]
     },
     "execution_count": 156,
     "metadata": {},
     "output_type": "execute_result"
    },
    {
     "data": {
      "image/png": "[encoded data removed]",
      "text/plain": [
       "<Figure size 432x288 with 1 Axes>"
      ]
     },
     "metadata": {
      "needs_background": "light"
     },
     "output_type": "display_data"
    }
   ],
   "source": [
    "lgb.plot_importance(runder, max_num_features=20, height=2)"
   ]
  },
  {
   "cell_type": "markdown",
   "metadata": {},
   "source": [
    "#### WIthout width"
   ]
  },
  {
   "cell_type": "code",
   "execution_count": 158,
   "metadata": {},
   "outputs": [],
   "source": [
    "below = M1.drop(columns='Толщина')[y1 <= 1.19]\n",
    "y_below = y1[y1 <= 1.19]\n",
    "under = M1.drop(columns='Толщина')[y1 > 1.19]\n",
    "y_under = y1[y1 > 1.19]"
   ]
  },
  {
   "cell_type": "code",
   "execution_count": 159,
   "metadata": {},
   "outputs": [
    {
     "data": {
      "text/plain": [
       "LGBMRegressor(boosting_type='gbdt', class_weight=None, colsample_bytree=1.0,\n",
       "       importance_type='split', learning_rate=0.1, max_depth=-1,\n",
       "       min_child_samples=20, min_child_weight=0.001, min_split_gain=0.0,\n",
       "       n_estimators=100, n_jobs=-1, num_leaves=31, objective=None,\n",
       "       random_state=None, reg_alpha=0.0, reg_lambda=0.0, silent=True,\n",
       "       subsample=1.0, subsample_for_bin=200000, subsample_freq=0)"
      ]
     },
     "execution_count": 159,
     "metadata": {},
     "output_type": "execute_result"
    }
   ],
   "source": [
    "X_train, X_test, y_train, y_test = train_test_split(below, y_below, train_size=0.8)\n",
    "rbelow = lgb.LGBMRegressor()\n",
    "rbelow.fit(X_train, y_train)"
   ]
  },
  {
   "cell_type": "code",
   "execution_count": 160,
   "metadata": {},
   "outputs": [
    {
     "data": {
      "text/plain": [
       "0.8740714576626056"
      ]
     },
     "execution_count": 160,
     "metadata": {},
     "output_type": "execute_result"
    }
   ],
   "source": [
    "r2_score(rbelow.predict(X_test), y_test)"
   ]
  },
  {
   "cell_type": "code",
   "execution_count": 161,
   "metadata": {},
   "outputs": [
    {
     "data": {
      "text/plain": [
       "<matplotlib.axes._subplots.AxesSubplot at 0x1a0dec0ac8>"
      ]
     },
     "execution_count": 161,
     "metadata": {},
     "output_type": "execute_result"
    },
    {
     "data": {
      "image/png": "[encoded data removed]",
      "text/plain": [
       "<Figure size 432x288 with 1 Axes>"
      ]
     },
     "metadata": {
      "needs_background": "light"
     },
     "output_type": "display_data"
    }
   ],
   "source": [
    "lgb.plot_importance(rbelow, max_num_features=20, height=2)"
   ]
  },
  {
   "cell_type": "code",
   "execution_count": 165,
   "metadata": {},
   "outputs": [],
   "source": [
    "X_train, X_test, y_train, y_test = train_test_split(under, y_under, train_size=0.8)"
   ]
  },
  {
   "cell_type": "code",
   "execution_count": 166,
   "metadata": {},
   "outputs": [
    {
     "data": {
      "text/plain": [
       "LGBMRegressor(boosting_type='gbdt', class_weight=None, colsample_bytree=1.0,\n",
       "       importance_type='split', learning_rate=0.1, max_depth=-1,\n",
       "       min_child_samples=20, min_child_weight=0.001, min_split_gain=0.0,\n",
       "       n_estimators=100, n_jobs=-1, num_leaves=31, objective=None,\n",
       "       random_state=None, reg_alpha=0.0, reg_lambda=0.0, silent=True,\n",
       "       subsample=1.0, subsample_for_bin=200000, subsample_freq=0)"
      ]
     },
     "execution_count": 166,
     "metadata": {},
     "output_type": "execute_result"
    }
   ],
   "source": [
    "runder = lgb.LGBMRegressor()\n",
    "runder.fit(X_train, y_train)"
   ]
  },
  {
   "cell_type": "code",
   "execution_count": 167,
   "metadata": {},
   "outputs": [
    {
     "data": {
      "text/plain": [
       "0.9682647949361932"
      ]
     },
     "execution_count": 167,
     "metadata": {},
     "output_type": "execute_result"
    }
   ],
   "source": [
    "r2_score(runder.predict(X_test), y_test)"
   ]
  },
  {
   "cell_type": "code",
   "execution_count": 168,
   "metadata": {},
   "outputs": [
    {
     "data": {
      "text/plain": [
       "<matplotlib.axes._subplots.AxesSubplot at 0x1a0dbb4550>"
      ]
     },
     "execution_count": 168,
     "metadata": {},
     "output_type": "execute_result"
    },
    {
     "data": {
      "image/png": "[encoded data removed]",
      "text/plain": [
       "<Figure size 432x288 with 1 Axes>"
      ]
     },
     "metadata": {
      "needs_background": "light"
     },
     "output_type": "display_data"
    }
   ],
   "source": [
    "lgb.plot_importance(runder, max_num_features=20, height=2)"
   ]
  },
  {
   "cell_type": "markdown",
   "metadata": {},
   "source": [
    "### Binary classification "
   ]
  },
  {
   "cell_type": "code",
   "execution_count": 20,
   "metadata": {},
   "outputs": [],
   "source": [
    "y = pd.cut(y1, [0, 1.05, 1.26, np.inf], include_lowest=True, labels=[0, 1, 2])"
   ]
  },
  {
   "cell_type": "code",
   "execution_count": 22,
   "metadata": {},
   "outputs": [],
   "source": [
    "y[y==2]= 0"
   ]
  },
  {
   "cell_type": "code",
   "execution_count": 24,
   "metadata": {},
   "outputs": [
    {
     "data": {
      "text/plain": [
       "1    27213\n",
       "0    21290\n",
       "2        0\n",
       "Name: Удельные потери P17, dtype: int64"
      ]
     },
     "execution_count": 24,
     "metadata": {},
     "output_type": "execute_result"
    }
   ],
   "source": [
    "y.value_counts()"
   ]
  },
  {
   "cell_type": "code",
   "execution_count": 27,
   "metadata": {},
   "outputs": [
    {
     "data": {
      "text/plain": [
       "742    1.246\n",
       "743    1.271\n",
       "744    1.260\n",
       "745    1.263\n",
       "746    1.273\n",
       "Name: Удельные потери P17, dtype: float64"
      ]
     },
     "execution_count": 27,
     "metadata": {},
     "output_type": "execute_result"
    }
   ],
   "source": [
    "y1.head()"
   ]
  },
  {
   "cell_type": "code",
   "execution_count": 28,
   "metadata": {},
   "outputs": [
    {
     "data": {
      "text/plain": [
       "742    1\n",
       "743    0\n",
       "744    1\n",
       "745    0\n",
       "746    0\n",
       "Name: Удельные потери P17, dtype: category\n",
       "Categories (3, int64): [0 < 1 < 2]"
      ]
     },
     "execution_count": 28,
     "metadata": {},
     "output_type": "execute_result"
    }
   ],
   "source": [
    "y.head()"
   ]
  },
  {
   "cell_type": "code",
   "execution_count": 29,
   "metadata": {},
   "outputs": [],
   "source": [
    "clf = lgb.LGBMClassifier()"
   ]
  },
  {
   "cell_type": "code",
   "execution_count": 30,
   "metadata": {},
   "outputs": [],
   "source": [
    "X_train, X_test, y_train, y_test = train_test_split(M1, y, train_size=0.7)"
   ]
  },
  {
   "cell_type": "code",
   "execution_count": 41,
   "metadata": {},
   "outputs": [],
   "source": [
    "from sklearn.metrics import precision_score, recall_score"
   ]
  },
  {
   "cell_type": "code",
   "execution_count": 42,
   "metadata": {},
   "outputs": [
    {
     "name": "stderr",
     "output_type": "stream",
     "text": [
      "/anaconda3/lib/python3.7/site-packages/sklearn/preprocessing/label.py:151: DeprecationWarning: The truth value of an empty array is ambiguous. Returning False, but in future this will result in an error. Use `array.size > 0` to check that an array is not empty.\n",
      "  if diff:\n",
      "/anaconda3/lib/python3.7/site-packages/sklearn/preprocessing/label.py:151: DeprecationWarning: The truth value of an empty array is ambiguous. Returning False, but in future this will result in an error. Use `array.size > 0` to check that an array is not empty.\n",
      "  if diff:\n",
      "/anaconda3/lib/python3.7/site-packages/sklearn/preprocessing/label.py:151: DeprecationWarning: The truth value of an empty array is ambiguous. Returning False, but in future this will result in an error. Use `array.size > 0` to check that an array is not empty.\n",
      "  if diff:\n"
     ]
    },
    {
     "name": "stdout",
     "output_type": "stream",
     "text": [
      "Test accuracy score is 0.8510755274551577\n",
      "Test f1 score is 0.871813073055309\n",
      "Test precision score is 0.9025107164727495\n",
      "Test recall score is 0.8431350114416476\n"
     ]
    },
    {
     "name": "stderr",
     "output_type": "stream",
     "text": [
      "/anaconda3/lib/python3.7/site-packages/sklearn/preprocessing/label.py:151: DeprecationWarning: The truth value of an empty array is ambiguous. Returning False, but in future this will result in an error. Use `array.size > 0` to check that an array is not empty.\n",
      "  if diff:\n"
     ]
    }
   ],
   "source": [
    "clf.fit(X_train, y_train)\n",
    "\n",
    "print('Test accuracy score is {}'.format(accuracy_score(clf.predict(X_test), y_test)))\n",
    "print('Test f1 score is {}'.format(f1_score(clf.predict(X_test), y_test)))\n",
    "print('Test precision score is {}'.format(precision_score(clf.predict(X_test), y_test)))\n",
    "print('Test recall score is {}'.format(recall_score(clf.predict(X_test), y_test)))"
   ]
  },
  {
   "cell_type": "code",
   "execution_count": 39,
   "metadata": {},
   "outputs": [
    {
     "name": "stdout",
     "output_type": "stream",
     "text": [
      "Train accuracy score is 0.8749705466540999\n",
      "Train f1 score is 0.8923981648120454\n"
     ]
    },
    {
     "name": "stderr",
     "output_type": "stream",
     "text": [
      "/anaconda3/lib/python3.7/site-packages/sklearn/preprocessing/label.py:151: DeprecationWarning: The truth value of an empty array is ambiguous. Returning False, but in future this will result in an error. Use `array.size > 0` to check that an array is not empty.\n",
      "  if diff:\n",
      "/anaconda3/lib/python3.7/site-packages/sklearn/preprocessing/label.py:151: DeprecationWarning: The truth value of an empty array is ambiguous. Returning False, but in future this will result in an error. Use `array.size > 0` to check that an array is not empty.\n",
      "  if diff:\n"
     ]
    }
   ],
   "source": [
    "print('Train accuracy score is {}'.format(accuracy_score(clf.predict(X_train), y_train)))\n",
    "print('Train f1 score is {}'.format(f1_score(clf.predict(X_train), y_train)))\n",
    "print('Test precision score is {}'.format(precision_score(clf.predict(X_train), y_test)))\n",
    "print('Test recall score is {}'.format(recall_score(clf.predict(X_test), y_test)))"
   ]
  },
  {
   "cell_type": "markdown",
   "metadata": {},
   "source": [
    "### PCA"
   ]
  },
  {
   "cell_type": "code",
   "execution_count": 172,
   "metadata": {},
   "outputs": [],
   "source": [
    "pca = PCA(n_components=10)"
   ]
  },
  {
   "cell_type": "code",
   "execution_count": 173,
   "metadata": {},
   "outputs": [],
   "source": [
    "new_M = pca.fit_transform(M1)"
   ]
  },
  {
   "cell_type": "code",
   "execution_count": 182,
   "metadata": {},
   "outputs": [],
   "source": [
    "y = pd.cut(y1, [0, 1.05, 1.26, np.inf], labels=[0, 1, 2], include_lowest=True)\n",
    "X_train, X_test, y_train, y_test = train_test_split(new_M, y, train_size=0.8)"
   ]
  },
  {
   "cell_type": "code",
   "execution_count": 184,
   "metadata": {},
   "outputs": [
    {
     "data": {
      "text/plain": [
       "LGBMClassifier(boosting_type='gbdt', class_weight=None, colsample_bytree=1.0,\n",
       "        importance_type='split', learning_rate=0.1, max_depth=-1,\n",
       "        min_child_samples=20, min_child_weight=0.001, min_split_gain=0.0,\n",
       "        n_estimators=100, n_jobs=-1, num_leaves=31, objective=None,\n",
       "        random_state=None, reg_alpha=0.0, reg_lambda=0.0, silent=True,\n",
       "        subsample=1.0, subsample_for_bin=200000, subsample_freq=0)"
      ]
     },
     "execution_count": 184,
     "metadata": {},
     "output_type": "execute_result"
    }
   ],
   "source": [
    "pca_cl = lgb.LGBMClassifier()\n",
    "pca_cl.fit(X_train, y_train)"
   ]
  },
  {
   "cell_type": "code",
   "execution_count": 189,
   "metadata": {},
   "outputs": [
    {
     "name": "stderr",
     "output_type": "stream",
     "text": [
      "/anaconda3/lib/python3.7/site-packages/sklearn/preprocessing/label.py:151: DeprecationWarning: The truth value of an empty array is ambiguous. Returning False, but in future this will result in an error. Use `array.size > 0` to check that an array is not empty.\n",
      "  if diff:\n"
     ]
    },
    {
     "data": {
      "text/plain": [
       "0.8570434513684861"
      ]
     },
     "execution_count": 189,
     "metadata": {},
     "output_type": "execute_result"
    }
   ],
   "source": [
    "accuracy_score(pca_cl.predict(X_train), y_train)"
   ]
  },
  {
   "cell_type": "code",
   "execution_count": 187,
   "metadata": {
    "scrolled": true
   },
   "outputs": [
    {
     "name": "stderr",
     "output_type": "stream",
     "text": [
      "/anaconda3/lib/python3.7/site-packages/sklearn/preprocessing/label.py:151: DeprecationWarning: The truth value of an empty array is ambiguous. Returning False, but in future this will result in an error. Use `array.size > 0` to check that an array is not empty.\n",
      "  if diff:\n"
     ]
    },
    {
     "data": {
      "text/plain": [
       "0.8386764251108133"
      ]
     },
     "execution_count": 187,
     "metadata": {},
     "output_type": "execute_result"
    }
   ],
   "source": [
    "accuracy_score(pca_cl.predict(X_test), y_test)"
   ]
  },
  {
   "cell_type": "code",
   "execution_count": 190,
   "metadata": {},
   "outputs": [
    {
     "data": {
      "text/plain": [
       "<matplotlib.axes._subplots.AxesSubplot at 0x1a1715c160>"
      ]
     },
     "execution_count": 190,
     "metadata": {},
     "output_type": "execute_result"
    },
    {
     "data": {
      "image/png": "[encoded data removed]",
      "text/plain": [
       "<Figure size 432x288 with 1 Axes>"
      ]
     },
     "metadata": {
      "needs_background": "light"
     },
     "output_type": "display_data"
    }
   ],
   "source": [
    "lgb.plot_importance(pca_cl)"
   ]
  },
  {
   "cell_type": "code",
   "execution_count": 197,
   "metadata": {},
   "outputs": [
    {
     "data": {
      "text/plain": [
       "67"
      ]
     },
     "execution_count": 197,
     "metadata": {},
     "output_type": "execute_result"
    }
   ],
   "source": [
    "np.argmax(pca.components_[3])"
   ]
  },
  {
   "cell_type": "code",
   "execution_count": null,
   "metadata": {},
   "outputs": [],
   "source": []
  },
  {
   "cell_type": "code",
   "execution_count": null,
   "metadata": {},
   "outputs": [],
   "source": []
  },
  {
   "cell_type": "code",
   "execution_count": null,
   "metadata": {},
   "outputs": [],
   "source": []
  },
  {
   "cell_type": "code",
   "execution_count": null,
   "metadata": {},
   "outputs": [],
   "source": []
  },
  {
   "cell_type": "code",
   "execution_count": null,
   "metadata": {},
   "outputs": [],
   "source": []
  }
 ],
 "metadata": {
  "kernelspec": {
   "display_name": "Python 3",
   "language": "python",
   "name": "python3"
  },
  "language_info": {
   "codemirror_mode": {
    "name": "ipython",
    "version": 3
   },
   "file_extension": ".py",
   "mimetype": "text/x-python",
   "name": "python",
   "nbconvert_exporter": "python",
   "pygments_lexer": "ipython3",
   "version": "3.7.0"
  }
 },
 "nbformat": 4,
 "nbformat_minor": 2
}
